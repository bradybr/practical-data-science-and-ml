{
 "cells": [
  {
   "cell_type": "markdown",
   "metadata": {},
   "source": [
    "# Day In the Life"
   ]
  },
  {
   "cell_type": "markdown",
   "metadata": {},
   "source": []
  },
  {
   "cell_type": "markdown",
   "metadata": {},
   "source": [
    "<h3>What's your elevator pitch?</h3>"
   ]
  },
  {
   "cell_type": "markdown",
   "metadata": {},
   "source": [
    "Have you heard of an elevator pitch?  It's when you run into someone in an elevator and you need to sell yourself, or in this case explain something, in a very brief period of time, e.g. a 15 second elevator ride.  It's good advice to have a few of these loaded and ready when you begin running in professional circles.  For example, it's extremely common to hear something like, _\"Hey Brian, haven't seen you in forever.  What have you been up to?\"_.\n",
    "\n",
    "In my case, I have to be able to explain to someone I haven't seen in 10 years that I work in data science when they have absolutely no idea what that means.  What's worse, consider that my attempt at explaining what data science is may introduce additional new terms the other party may not be aware of either (i.e. artificial intelligence, machine learning, algorithms, models).  So it's clearly not something I can give a textbook answer for in my case.\n",
    "\n",
    "In case you're wondering, what I usually tell the uninitiated I do for a living is \"I solve high value business problems, by making predictions or telling someone what they _should_ do, using advanced math and computer code.\"  Simple, straight forward, and just enough teaser information to hint at the unique specialities behind the scenes that set me apart from the crowd."
   ]
  },
  {
   "cell_type": "markdown",
   "metadata": {},
   "source": [
    "```{tip}\n",
    "No matter where you go from here or what field you go into, be prepared with how you'll introduce yourself in a concise and meaningful way so it resonates with the receiver.\n",
    "```\n",
    "<br>"
   ]
  }
 ],
 "metadata": {
  "kernelspec": {
   "display_name": "Python 3 (ipykernel)",
   "language": "python",
   "name": "python3"
  },
  "language_info": {
   "codemirror_mode": {
    "name": "ipython",
    "version": 3
   },
   "file_extension": ".py",
   "mimetype": "text/x-python",
   "name": "python",
   "nbconvert_exporter": "python",
   "pygments_lexer": "ipython3",
   "version": "3.11.5"
  },
  "widgets": {
   "application/vnd.jupyter.widget-state+json": {
    "state": {},
    "version_major": 2,
    "version_minor": 0
   }
  }
 },
 "nbformat": 4,
 "nbformat_minor": 4
}