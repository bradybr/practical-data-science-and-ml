{
 "cells": [
  {
   "cell_type": "markdown",
   "metadata": {},
   "source": [
    "# Data Science Roles"
   ]
  },
  {
   "cell_type": "markdown",
   "metadata": {},
   "source": [
    "Job titles matter.  They matter to an individual's self identity, their reward for years of study and experience, and for aided comprehension and understanding of the expectations of the resposibilities tied to a position.  Unfortunately titles do not guarantee any kind of standardization across industries, so we get the same mess we ran into with trying to define what is data science."
   ]
  },
  {
   "cell_type": "markdown",
   "metadata": {},
   "source": [
    "This course will focus mostly on the capabilities of a data scientist and being self sufficient, but it's a good idea to discuss all of the peripheral roles one would encounter in the real world.  Again, there's tons of overlap so it'll be a good idea to undertand what \"common\" looks like.  Titles, roles, and responsibitliies are constantly evolving with new technologies and business expectations, but what follows are fairly well established at this time in the industry no matter where you find yourself."
   ]
  },
  {
   "cell_type": "markdown",
   "metadata": {},
   "source": [
    "This list could get out of hand if we're not careful, so let's try to keep it simple and high-level at this stage.  Below are some of the very common roles and personas you might run across in the field.  We'll tackle them one by one and highlight what you might expect to see them do."
   ]
  },
  {
   "cell_type": "markdown",
   "metadata": {},
   "source": [
    " - Data/Business Analyst\n",
    " - Business Architect\n",
    " - Data Engineer\n",
    " - Machine Learning Engineer/Machine Learning Ops Engineer\n",
    " - Data Scientist"
   ]
  },
  {
   "cell_type": "markdown",
   "metadata": {},
   "source": [
    "<h5>Data / Business Analyst</h5>"
   ]
  },
  {
   "cell_type": "markdown",
   "metadata": {},
   "source": [
    "Let's start with the least standardized in my opinion.  In my nearly 20 years of working in corporate America, these seem to be the most general and open ended in terms of consistency.  The title Business Analyst tends to be more of catch all for hiring entry level associates with less experience without any particular specialty outside of general business knowledge.  Of course this depends on industry, for example, an Analyst working in goverment is a highly educated, skilled, and specialized resource.  Also, consultancy firms do seem to place some weight on the title as experienced and knowledgeable business associates.  So again, expect differences and few standards.\n",
    "\n",
    "In terms of data science, we start here because these are generally the front lines of analytics in any business.  After you enter into the corporate workforce, you'll learn the dirty little secret that even multi billion dollar companies essentially run on Microsoft Excel, PowerPoint, and some drag and drop visual tool like Power BI or Tableau.  Value can be found by anyone in an organization, and not everything requires complicated methods from specialists.  If you can find value by running a report, dumping it in Excel, running some simple descriptive statistics or visual methods, then that's nothing to sneeze at.  Things do not have to be complicated."
   ]
  },
  {
   "cell_type": "markdown",
   "metadata": {},
   "source": [
    "```{figure} ../images/xls_screen.png\n",
    "---\n",
    "width: 700px\n",
    "name: xls-screen-fig\n",
    "---\n",
    "Simple Excel analytics\n",
    "```"
   ]
  },
  {
   "cell_type": "markdown",
   "metadata": {},
   "source": [
    "Going back to our discussion about \"What is Data Science?\", recall our definition about anyone working with data and extracting meaningful insights?  Well, that broadness definitely covers this group.  Data and Business Analysts are ubiquitous in common business, spend a signficant amount of time pulling data, synthesize and extract information, reach conculsions, and ultimatley publish their findings in some easily consumable way (hopefully).  It would be unusual to see this group of associates working with higher order mathematics or machine learning though."
   ]
  },
  {
   "cell_type": "markdown",
   "metadata": {},
   "source": [
    "<h5>Business Architect</h5>"
   ]
  },
  {
   "cell_type": "markdown",
   "metadata": {},
   "source": [
    "With Business Architects we begin to move towards a specialty within analytics, however mainly from the _business_ side.  These associates tend to be much more knowledgeable about the broad field of analytics though.  This covers a technical understanding of what other roles and personas are doing, as well as the technology and methodolgies involved.  With analysts in general you tend to get a lack of understanding of what data science resources can do, and with data science resources you tend to get a lack of understanding of how the business works.  The Business Architect role typically fills this gap between business strategy and technical execution, and will play in between these parties.\n",
    "\n",
    "These associates are generally not the ones performing analytics themselves, but more so work in business management, organizational communicatory, and consultancy capacities.  This is also a role is often missing with companies that are farily immature in their analytics journey, since these responsibilities can be assigned to and performed by other resources (arguably not as well though).  "
   ]
  },
  {
   "cell_type": "markdown",
   "metadata": {},
   "source": [
    "<h5>Data Engineer</h5>"
   ]
  },
  {
   "cell_type": "markdown",
   "metadata": {},
   "source": [
    "Now we get to someone you should definitely run into in any organization actually taking advanced analytics seriously.  Data Engineers are a critical member of any data science team.  These associates tend to be heavy on the CS/IS/IT backgrounds, and in my experience, are generally very light on the advanced math, machine learning, and basic data science methodologies.  This is actually not a bad thing though, seeing as your run of the mill data scientist will not be as proficient in the skills that a data engineer brings to the table."
   ]
  },
  {
   "cell_type": "markdown",
   "metadata": {},
   "source": [
    "So what do they do?\n",
    "\n",
    "- Data acquisition & storage\n",
    "- Data ETL (Extract, Transform, Load), wrangling, munging, and aggregation\n",
    "- Database management\n",
    "- Create and maintain data storage and pipleine architectures\n",
    "- Data governance, security, and compliance"
   ]
  },
  {
   "cell_type": "markdown",
   "metadata": {},
   "source": [
    "What's so great about these team members in my experience is that they tend to compensate for the lack of skills held by the more mathematically inclined on the team.  This goes back to the idea that it's much easier to find a data scientist that has one or two of the three (math & statistics, CS, and domain expertise) main skillsets employed.  So for me personally with my background in business operations supplmented by advanced mathematics, new technology, hardware, networking, and architecture are difficult for me since I'm not a CS person by any stretch of the imagination.  Having someone on my team with these skills is worth its weight in gold."
   ]
  },
  {
   "cell_type": "markdown",
   "metadata": {},
   "source": [
    "Data Engineers historically were the CS folks coming with advanced skills in SQL and probably some of the older languages like COBOL, Pascal, or Fortran.  Today, SQL is still the dominant structured language, and Python has taken over the world as the most used general purpose language.  These are probably the most common of what you'll see in the wild now.  Even the big data offshoots you'll run into such as Spark SQL are different flavors of the same thing.  With all of the new era/big data technologies evolving, be prepared to hear about new languages at a pretty constant rate (e.g. MQL, NoSQL, Scala)"
   ]
  },
  {
   "cell_type": "markdown",
   "metadata": {},
   "source": [
    "<h5>Machine Learning Engineer / Machine Learning Ops Engineer</h5>"
   ]
  },
  {
   "cell_type": "markdown",
   "metadata": {},
   "source": [
    "Those in-the-know out there may have some words for me for lumping these two together, but bare with me.  It's simply easier to explain how these two are similar and where they differ all at once.  It is unfortunate though that these two are so similarly named since it does creates some confusion we have to deal with, but like everything else up to this point you'll get differences depending on the industry and company anyway."
   ]
  },
  {
   "cell_type": "markdown",
   "metadata": {},
   "source": [
    "```{figure} ../images/ml_ete.png\n",
    "---\n",
    "width: 600px\n",
    "name: ml-ete-fig\n",
    "---\n",
    "Data Science/ML end-to-end roles and responsibilities\n",
    "```"
   ]
  },
  {
   "cell_type": "markdown",
   "metadata": {},
   "source": [
    "First let's talk about the overlap here.  ML Engineers actually have more overlap and in common with data scientists than MLOps Engineers if you ask me.  The main difference is that the Engineers are much more capable and focused on the _productionized optimization_ of the models we build, seen more on the center-right side of {numref}`ml-ete-fig`.  These resources tend to be a bit more in the CS circle of our Venn diagram vs. the Math & Statistics set.  In my experience, we see less of them on the upfront business collaboration side of projects vs. the building, iterating, and deploying solutions, but they are definitely capable of owning a project from inception.  They understand how the models should work in the tech stack and architecture we're dealing with, but better still, how our models and data should work most efficiently and effectively in these environments.  This is their sweet spot.\n",
    "\n",
    "MLOps Engineers have their main overlap with the ML Engineers focusing on the same productionization of their models and their deployment.  We can think of these resources as hyper-focused on deployment after the model development, monitoring/maintenance, and iteration cycle of tuning and optimization of the system architecture at scale.  The main points of distinction between ML Engineers and MLOps Engineers is that ML Engineers will tend to be much more involved in the model development cycle or handover from the Data Scientist, vs. the MLOps Engineer who cares mostly about the complete back end deployment.  "
   ]
  },
  {
   "cell_type": "markdown",
   "metadata": {},
   "source": [
    "<h5>Data Scientist</h5>"
   ]
  },
  {
   "cell_type": "markdown",
   "metadata": {},
   "source": [
    "And finally, we arrive at the Data Scientist on the team.  This title is slowly falling out of favor for more specialized versions that take more of the technology and systems architecture into account, like what we see with the rise of ML Engineers.  Data Scientists were the main expansion out of the traditional math set of folks doing this work roughly 15-20 years ago, and were generally the first ones solving business problems using these new machine learning methodologies (outside of highly specialized and isolated pockets).  The general idea was to have these resources quckly proving concepts and value with prototypes without overly worrying about how it was going to be deployed, or whether or not the model was optimized to scale.  At that time, the end-to-end process and landscape looked very different than it does today.  Today we have new cloud architecture, innovation sandboxes, CI/CD processes, data movement pipelines, federated data, and so on.  All of this has created the need for the Data Scientist to evolve.  It's no longer enough to just be able to build a simple machine learning model on your laptop.\n",
    "\n",
    "So where does that leave the Data Scientist today?  Titles come and go, and this one will probably fall by the wayside at some point not so far into the distant future, but the intent of this position is still going strong in my opinion.  What companies desperately need are resources that can interpret the problem context from the functional business person, propose solutions, and then quickly mock up a minimum viable product (MVP) or prototype model to prove the value of a concept (POC).  They need knowledgeable advanced analytics resources that are able to translate complex topics like math and computer algorithms into simple business layman's terms.  All of these things are still the primary strengths of a Data Scientist and are not in danger of disppearing anytime soon in my opinion.\n",
    "\n",
    "A frequent scenario was for the Data Scientist to fill this up front space working with the business sponsor all the way to building a POC prototype, and then handing of their work and models to the ML Engineers to package it up for production deployment.  Today this still fits nicely with the emergence of these new specialized roles on the back end, but I do believe we've seen a shift to an expectation of being much more knowledgeable and capable with the technology and architecture further down the workflow chain than we've seen historically."
   ]
  },
  {
   "cell_type": "markdown",
   "metadata": {},
   "source": [
    "Of course all of this is fluid and only broad generalizations of what I've seen or read about in the industry for the last 10 years up until now.  There's certainly no reason that an ML/Ops Engineer couldn't or isn't working up front with the business, or that an ML Engineer doesn't work on prototype developments, or that a Data Scientist can't build a production ready model and see it through deployment at scale, etc.  What I've laid out here is a simplified blend of what you may see with a certain sized orgainization, at a specific point in their analytics maturity arc as I've been witness to."
   ]
  },
  {
   "cell_type": "markdown",
   "metadata": {},
   "source": [
    "```{tip}\n",
    "The only thing I can guarantee you is that change is the only constant in this field.  Be as open to refreshing your mental models and understanding as possible.\n",
    "```\n",
    "<br>"
   ]
  },
  {
   "cell_type": "markdown",
   "metadata": {},
   "source": [
    "<h3>What's your elevator pitch?</h3>"
   ]
  },
  {
   "cell_type": "markdown",
   "metadata": {},
   "source": [
    "Have you heard of an elevator pitch?  It's when you run into someone in an elevator and you need to sell yourself, or in this case explain something, in a very brief period of time, e.g. a 15 second elevator ride.  It's good advice to have a few of these loaded and ready when you begin running in professional circles.  For example, it's extremely common to hear something like, _\"Hey Brian, haven't seen you in forever.  What have you been up to?\"_.\n",
    "\n",
    "In my case, I have to be able to explain to someone I haven't seen in 10 years that I work in data science when they have absolutely no idea what that means.  What's worse, consider that my attempt at explaining what data science is may introduce additional new terms the other party may not be aware of either (i.e. artificial intelligence, machine learning, algorithms, models).  So it's clearly not something I can give a textbook answer for in my case.\n",
    "\n",
    "In case you're wondering, what I usually tell the uninitiated I do for a living is \"I solve high value business problems, by making predictions or telling someone what they _should_ do, using advanced math and computer code.\"  Simple, straight forward, and just enough teaser information to hint at the unique specialities behind the scenes that set me apart from the crowd."
   ]
  },
  {
   "cell_type": "markdown",
   "metadata": {},
   "source": [
    "```{tip}\n",
    "No matter where you go from here or what field you go into, be prepared with how you'll introduce yourself in a concise and meaningful way so it resonates with the receiver.\n",
    "```\n",
    "<br>"
   ]
  }
 ],
 "metadata": {
  "kernelspec": {
   "display_name": "Python 3 (ipykernel)",
   "language": "python",
   "name": "python3"
  },
  "language_info": {
   "codemirror_mode": {
    "name": "ipython",
    "version": 3
   },
   "file_extension": ".py",
   "mimetype": "text/x-python",
   "name": "python",
   "nbconvert_exporter": "python",
   "pygments_lexer": "ipython3",
   "version": "3.11.5"
  },
  "widgets": {
   "application/vnd.jupyter.widget-state+json": {
    "state": {},
    "version_major": 2,
    "version_minor": 0
   }
  }
 },
 "nbformat": 4,
 "nbformat_minor": 4
}