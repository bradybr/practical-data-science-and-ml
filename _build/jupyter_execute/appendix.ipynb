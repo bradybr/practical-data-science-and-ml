{
 "cells": [
  {
   "cell_type": "code",
   "execution_count": null,
   "id": "fb2bacce-c6a4-4ad2-b26b-b4313fcdedb6",
   "metadata": {},
   "outputs": [],
   "source": []
  },
  {
   "cell_type": "code",
   "execution_count": 1,
   "id": "2e8f9b00-5fce-4ce1-ba7b-83a51d2216b6",
   "metadata": {},
   "outputs": [
    {
     "ename": "NameError",
     "evalue": "name 'dat' is not defined",
     "output_type": "error",
     "traceback": [
      "\u001b[1;31m---------------------------------------------------------------------------\u001b[0m",
      "\u001b[1;31mNameError\u001b[0m                                 Traceback (most recent call last)",
      "Cell \u001b[1;32mIn[1], line 5\u001b[0m\n\u001b[0;32m      2\u001b[0m \u001b[38;5;28;01mimport\u001b[39;00m \u001b[38;5;21;01mmatplotlib\u001b[39;00m\u001b[38;5;21;01m.\u001b[39;00m\u001b[38;5;21;01mpyplot\u001b[39;00m \u001b[38;5;28;01mas\u001b[39;00m \u001b[38;5;21;01mplt\u001b[39;00m\n\u001b[0;32m      4\u001b[0m \u001b[38;5;66;03m# Matplotlib Plot\u001b[39;00m\n\u001b[1;32m----> 5\u001b[0m plt\u001b[38;5;241m.\u001b[39mscatter(x \u001b[38;5;241m=\u001b[39m \u001b[38;5;124m'\u001b[39m\u001b[38;5;124mcarat\u001b[39m\u001b[38;5;124m'\u001b[39m, y \u001b[38;5;241m=\u001b[39m \u001b[38;5;124m'\u001b[39m\u001b[38;5;124mprice\u001b[39m\u001b[38;5;124m'\u001b[39m, alpha \u001b[38;5;241m=\u001b[39m \u001b[38;5;241m.5\u001b[39m, data \u001b[38;5;241m=\u001b[39m dat)\n",
      "\u001b[1;31mNameError\u001b[0m: name 'dat' is not defined"
     ]
    }
   ],
   "source": [
    "# Load library\n",
    "import matplotlib.pyplot as plt\n",
    "\n",
    "# Matplotlib Plot\n",
    "plt.scatter(x = 'carat', y = 'price', alpha = .5, data = dat)"
   ]
  },
  {
   "cell_type": "code",
   "execution_count": null,
   "id": "2a1550dd-e001-4b43-b501-51429831a083",
   "metadata": {},
   "outputs": [],
   "source": [
    "# Load Library\n",
    "import seaborn as sns\n",
    "\n",
    "# Seaborn Plot\n",
    "sns.scatterplot(x = 'carat', y = 'price', alpha = .5, data = dat)"
   ]
  },
  {
   "cell_type": "code",
   "execution_count": null,
   "id": "eb9b09e9-745d-4b69-b2fe-b3e5c8148cd7",
   "metadata": {},
   "outputs": [],
   "source": [
    "# Import Library\n",
    "import pandas as pd\n",
    "\n",
    "# Pandas Plot\n",
    "dat.plot('carat', 'price', kind = 'scatter', alpha = .5)"
   ]
  }
 ],
 "metadata": {
  "kernelspec": {
   "display_name": "Python 3 (ipykernel)",
   "language": "python",
   "name": "python3"
  },
  "language_info": {
   "codemirror_mode": {
    "name": "ipython",
    "version": 3
   },
   "file_extension": ".py",
   "mimetype": "text/x-python",
   "name": "python",
   "nbconvert_exporter": "python",
   "pygments_lexer": "ipython3",
   "version": "3.11.5"
  }
 },
 "nbformat": 4,
 "nbformat_minor": 5
}