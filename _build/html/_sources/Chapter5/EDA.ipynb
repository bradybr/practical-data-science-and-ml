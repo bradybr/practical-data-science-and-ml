{
 "cells": [
  {
   "cell_type": "markdown",
   "id": "d8794e27-7581-48be-8c54-04d535c866f9",
   "metadata": {},
   "source": [
    "# Exploratory Data Analysis (EDA)"
   ]
  },
  {
   "cell_type": "markdown",
   "id": "daf1643d-7a15-4b72-afda-e24a1abdcbfc",
   "metadata": {},
   "source": [
    "This should be a fun one.  We've finally got our data in hand and now we get to see what we're working with."
   ]
  },
  {
   "cell_type": "markdown",
   "id": "7a762b73-3246-4369-8acc-4a8c9f9dfc7a",
   "metadata": {},
   "source": [
    "I can't tell you how many times I've been burned in a project because I didn't take my time exploring the data before jumping into trying to solve the problem.  It's always fun to get your hands on the data and start playing around, but once you start seeing all of the problematic challenges lurking about that need your attention, it's very easy to get burned out and start looking for any excuse to move on.  Null values are not sexy.  Missing records are not exciting.  Duplicate observations are not fun.  But all of them are important to deal with, trust me.\n",
    "\n",
    "The devil is in the details as they say, and you can't know what's hidding in plain sight waiting to bite you in the behind if you don't spend the time looking for it."
   ]
  },
  {
   "cell_type": "markdown",
   "id": "b5fee37f-4407-4fc3-9e28-1fe41317cd47",
   "metadata": {},
   "source": [
    "```{figure} ../images/wolf.png\n",
    "---\n",
    "width: 600px\n",
    "name: wolf-fig\n",
    "---\n",
    "```"
   ]
  },
  {
   "cell_type": "markdown",
   "id": "c81f420e-0ada-4fb8-be9e-b70a11091b33",
   "metadata": {},
   "source": [
    "Exploratoy Data Analysis (EDA) is a really broad and non standard topic.  Every dataset and problem is different so there's no way to create a one size fits all solution unfortunately.  But again, luckily there's a general framework we can follow that should hopefully point us in the right direction and help us figure out what actions we need to take.\n",
    "\n",
    "Generally speaking, EDA involves the following:\n",
    "\n",
    "1. Investigating and understanding the charactersitics of our data and features (variables)\n",
    "2. Uncovering any potential issues or anamolies that we need to address in some way\n",
    "\n",
    "There are some general best practices we'll cover here where we can always start, and then hopefully these methods will shine some light on where we need to go next.  What you need to do to address your specific issues will vary from project to project however."
   ]
  },
  {
   "cell_type": "markdown",
   "id": "8fb0863a-509e-4724-852c-873ae9cc084a",
   "metadata": {},
   "source": [
    "Let me caution you again from being too eager to move on from this stage.  There are serious penalties for not being diligent here.  Little issues may seem innocuous at the time, but I can assure you they will add up and confuse your models.  Your ability to solve the problem at hand will suffer due to anything less than a thorough examination of your data."
   ]
  },
  {
   "cell_type": "markdown",
   "id": "a70d29b4-9073-455a-89d5-c11c4f472e37",
   "metadata": {},
   "source": [
    "Good luck!"
   ]
  }
 ],
 "metadata": {
  "kernelspec": {
   "display_name": "Python 3 (ipykernel)",
   "language": "python",
   "name": "python3"
  },
  "language_info": {
   "codemirror_mode": {
    "name": "ipython",
    "version": 3
   },
   "file_extension": ".py",
   "mimetype": "text/x-python",
   "name": "python",
   "nbconvert_exporter": "python",
   "pygments_lexer": "ipython3",
   "version": "3.11.5"
  }
 },
 "nbformat": 4,
 "nbformat_minor": 5
}
