{
 "cells": [
  {
   "cell_type": "code",
   "execution_count": null,
   "id": "fb2bacce-c6a4-4ad2-b26b-b4313fcdedb6",
   "metadata": {},
   "outputs": [],
   "source": []
  },
  {
   "cell_type": "code",
   "execution_count": null,
   "id": "2e8f9b00-5fce-4ce1-ba7b-83a51d2216b6",
   "metadata": {},
   "outputs": [],
   "source": [
    "# Load library\n",
    "import matplotlib.pyplot as plt\n",
    "\n",
    "# Matplotlib Plot\n",
    "plt.scatter(x = 'carat', y = 'price', alpha = .5, data = dat)"
   ]
  },
  {
   "cell_type": "code",
   "execution_count": null,
   "id": "2a1550dd-e001-4b43-b501-51429831a083",
   "metadata": {},
   "outputs": [],
   "source": [
    "# Load Library\n",
    "import seaborn as sns\n",
    "\n",
    "# Seaborn Plot\n",
    "sns.scatterplot(x = 'carat', y = 'price', alpha = .5, data = dat)"
   ]
  },
  {
   "cell_type": "code",
   "execution_count": null,
   "id": "eb9b09e9-745d-4b69-b2fe-b3e5c8148cd7",
   "metadata": {},
   "outputs": [],
   "source": [
    "# Import Library\n",
    "import pandas as pd\n",
    "\n",
    "# Pandas Plot\n",
    "dat.plot('carat', 'price', kind = 'scatter', alpha = .5)"
   ]
  }
 ],
 "metadata": {
  "kernelspec": {
   "display_name": "Python 3 (ipykernel)",
   "language": "python",
   "name": "python3"
  },
  "language_info": {
   "codemirror_mode": {
    "name": "ipython",
    "version": 3
   },
   "file_extension": ".py",
   "mimetype": "text/x-python",
   "name": "python",
   "nbconvert_exporter": "python",
   "pygments_lexer": "ipython3",
   "version": "3.11.5"
  }
 },
 "nbformat": 4,
 "nbformat_minor": 5
}
