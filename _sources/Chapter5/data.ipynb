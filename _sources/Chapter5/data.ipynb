{
 "cells": [
  {
   "cell_type": "markdown",
   "id": "d8794e27-7581-48be-8c54-04d535c866f9",
   "metadata": {},
   "source": [
    "# Data"
   ]
  },
  {
   "cell_type": "markdown",
   "id": "2abc9a76-09e2-4bb8-b6d3-cc5884ff1baa",
   "metadata": {},
   "source": [
    "Like motor oil is to an engine, data is to our machine learning programs.  Gotta have it.\n",
    "\n",
    "Data has lots of facets and tentacles into various other topics like technology, statistics, and business process management depending on which area you're talking about.  For our purposes, we'll keep it simple.  We'll hit the highlights below of what you need to know when getting started.\n",
    "\n",
    "- {doc}`data_types`\n",
    "- {doc}`data_acquisition`\n",
    "- {doc}`data_integrity`\n",
    "\n",
    "<br>"
   ]
  },
  {
   "cell_type": "markdown",
   "id": "6c4bbd43-8be1-41fa-8acf-6f464579faa8",
   "metadata": {},
   "source": [
    "Let's get into it.  On to Data Types!"
   ]
  }
 ],
 "metadata": {
  "kernelspec": {
   "display_name": "Python 3 (ipykernel)",
   "language": "python",
   "name": "python3"
  },
  "language_info": {
   "codemirror_mode": {
    "name": "ipython",
    "version": 3
   },
   "file_extension": ".py",
   "mimetype": "text/x-python",
   "name": "python",
   "nbconvert_exporter": "python",
   "pygments_lexer": "ipython3",
   "version": "3.11.5"
  }
 },
 "nbformat": 4,
 "nbformat_minor": 5
}
