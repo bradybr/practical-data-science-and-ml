{
 "cells": [
  {
   "cell_type": "markdown",
   "id": "d8794e27-7581-48be-8c54-04d535c866f9",
   "metadata": {},
   "source": [
    "# Descriptive Summaries"
   ]
  },
  {
   "cell_type": "markdown",
   "id": "31120e0f-a34d-4b3c-ac33-102c75aa1311",
   "metadata": {},
   "source": []
  },
  {
   "cell_type": "markdown",
   "id": "3f4f9a44-827c-4ef3-88a3-f27adbd8ee66",
   "metadata": {},
   "source": []
  },
  {
   "cell_type": "markdown",
   "id": "16d20729-e708-42ad-90c8-01b0cee31849",
   "metadata": {},
   "source": [
    "- Data shape\n",
    "- Variable types\n",
    "- Descriptive Summaries\n",
    "- Missing values\n",
    "- Missing records\n",
    "- Duplicates"
   ]
  },
  {
   "cell_type": "code",
   "execution_count": null,
   "id": "6f5c5da9-94f9-4d77-a8ff-d5402eb95f5c",
   "metadata": {},
   "outputs": [],
   "source": [
    "import pandas as pd\n",
    "import matplotlib\n",
    "import seaborn as sns"
   ]
  },
  {
   "cell_type": "code",
   "execution_count": 15,
   "id": "94fac6a1-b978-4ad0-851a-b04173ad625b",
   "metadata": {},
   "outputs": [
    {
     "data": {
      "text/html": [
       "<div>\n",
       "<style scoped>\n",
       "    .dataframe tbody tr th:only-of-type {\n",
       "        vertical-align: middle;\n",
       "    }\n",
       "\n",
       "    .dataframe tbody tr th {\n",
       "        vertical-align: top;\n",
       "    }\n",
       "\n",
       "    .dataframe thead th {\n",
       "        text-align: right;\n",
       "    }\n",
       "</style>\n",
       "<table border=\"1\" class=\"dataframe\">\n",
       "  <thead>\n",
       "    <tr style=\"text-align: right;\">\n",
       "      <th></th>\n",
       "      <th>id</th>\n",
       "      <th>gender</th>\n",
       "      <th>age</th>\n",
       "      <th>country</th>\n",
       "      <th>study_begin</th>\n",
       "      <th>study_end</th>\n",
       "      <th>active_mins</th>\n",
       "      <th>sleep_disturb_mins</th>\n",
       "      <th>sleep_rem_mins</th>\n",
       "    </tr>\n",
       "  </thead>\n",
       "  <tbody>\n",
       "    <tr>\n",
       "      <th>0</th>\n",
       "      <td>1</td>\n",
       "      <td>F</td>\n",
       "      <td>38.0</td>\n",
       "      <td>USA</td>\n",
       "      <td>4/3/2021</td>\n",
       "      <td>4/9/2023</td>\n",
       "      <td>96.8</td>\n",
       "      <td>227.5</td>\n",
       "      <td>25.9</td>\n",
       "    </tr>\n",
       "    <tr>\n",
       "      <th>1</th>\n",
       "      <td>2</td>\n",
       "      <td>M</td>\n",
       "      <td>72.0</td>\n",
       "      <td>Poland</td>\n",
       "      <td>4/3/2021</td>\n",
       "      <td>4/9/2023</td>\n",
       "      <td>245.6</td>\n",
       "      <td>644.2</td>\n",
       "      <td>86.7</td>\n",
       "    </tr>\n",
       "    <tr>\n",
       "      <th>2</th>\n",
       "      <td>3</td>\n",
       "      <td>F</td>\n",
       "      <td>95.0</td>\n",
       "      <td>Italy</td>\n",
       "      <td>4/3/2021</td>\n",
       "      <td>4/9/2023</td>\n",
       "      <td>279.4</td>\n",
       "      <td>465.6</td>\n",
       "      <td>31.8</td>\n",
       "    </tr>\n",
       "    <tr>\n",
       "      <th>3</th>\n",
       "      <td>4</td>\n",
       "      <td>M</td>\n",
       "      <td>37.0</td>\n",
       "      <td>USA</td>\n",
       "      <td>4/3/2021</td>\n",
       "      <td>4/9/2023</td>\n",
       "      <td>60.0</td>\n",
       "      <td>109.0</td>\n",
       "      <td>19.7</td>\n",
       "    </tr>\n",
       "    <tr>\n",
       "      <th>4</th>\n",
       "      <td>5</td>\n",
       "      <td>F</td>\n",
       "      <td>80.0</td>\n",
       "      <td>Spain</td>\n",
       "      <td>4/3/2021</td>\n",
       "      <td>4/9/2023</td>\n",
       "      <td>89.4</td>\n",
       "      <td>113.3</td>\n",
       "      <td>38.6</td>\n",
       "    </tr>\n",
       "    <tr>\n",
       "      <th>...</th>\n",
       "      <td>...</td>\n",
       "      <td>...</td>\n",
       "      <td>...</td>\n",
       "      <td>...</td>\n",
       "      <td>...</td>\n",
       "      <td>...</td>\n",
       "      <td>...</td>\n",
       "      <td>...</td>\n",
       "      <td>...</td>\n",
       "    </tr>\n",
       "    <tr>\n",
       "      <th>872</th>\n",
       "      <td>872</td>\n",
       "      <td>F</td>\n",
       "      <td>17.0</td>\n",
       "      <td>Italy</td>\n",
       "      <td>4/3/2021</td>\n",
       "      <td>4/9/2023</td>\n",
       "      <td>42.1</td>\n",
       "      <td>87.7</td>\n",
       "      <td>42.3</td>\n",
       "    </tr>\n",
       "    <tr>\n",
       "      <th>873</th>\n",
       "      <td>873</td>\n",
       "      <td>F</td>\n",
       "      <td>64.0</td>\n",
       "      <td>USA</td>\n",
       "      <td>4/3/2021</td>\n",
       "      <td>4/9/2023</td>\n",
       "      <td>128.5</td>\n",
       "      <td>268.8</td>\n",
       "      <td>23.4</td>\n",
       "    </tr>\n",
       "    <tr>\n",
       "      <th>874</th>\n",
       "      <td>874</td>\n",
       "      <td>F</td>\n",
       "      <td>27.0</td>\n",
       "      <td>Italy</td>\n",
       "      <td>4/3/2021</td>\n",
       "      <td>4/9/2023</td>\n",
       "      <td>43.2</td>\n",
       "      <td>84.1</td>\n",
       "      <td>18.0</td>\n",
       "    </tr>\n",
       "    <tr>\n",
       "      <th>875</th>\n",
       "      <td>875</td>\n",
       "      <td>F</td>\n",
       "      <td>69.0</td>\n",
       "      <td>Spain</td>\n",
       "      <td>4/3/2021</td>\n",
       "      <td>4/9/2023</td>\n",
       "      <td>246.8</td>\n",
       "      <td>237.6</td>\n",
       "      <td>44.1</td>\n",
       "    </tr>\n",
       "    <tr>\n",
       "      <th>876</th>\n",
       "      <td>876</td>\n",
       "      <td>M</td>\n",
       "      <td>27.0</td>\n",
       "      <td>USA</td>\n",
       "      <td>4/3/2021</td>\n",
       "      <td>4/9/2023</td>\n",
       "      <td>320.2</td>\n",
       "      <td>313.3</td>\n",
       "      <td>112.8</td>\n",
       "    </tr>\n",
       "  </tbody>\n",
       "</table>\n",
       "<p>877 rows × 9 columns</p>\n",
       "</div>"
      ],
      "text/plain": [
       "      id gender   age country study_begin study_end  active_mins  \\\n",
       "0      1      F  38.0     USA    4/3/2021  4/9/2023         96.8   \n",
       "1      2      M  72.0  Poland    4/3/2021  4/9/2023        245.6   \n",
       "2      3      F  95.0   Italy    4/3/2021  4/9/2023        279.4   \n",
       "3      4      M  37.0     USA    4/3/2021  4/9/2023         60.0   \n",
       "4      5      F  80.0   Spain    4/3/2021  4/9/2023         89.4   \n",
       "..   ...    ...   ...     ...         ...       ...          ...   \n",
       "872  872      F  17.0   Italy    4/3/2021  4/9/2023         42.1   \n",
       "873  873      F  64.0     USA    4/3/2021  4/9/2023        128.5   \n",
       "874  874      F  27.0   Italy    4/3/2021  4/9/2023         43.2   \n",
       "875  875      F  69.0   Spain    4/3/2021  4/9/2023        246.8   \n",
       "876  876      M  27.0     USA    4/3/2021  4/9/2023        320.2   \n",
       "\n",
       "     sleep_disturb_mins  sleep_rem_mins  \n",
       "0                 227.5            25.9  \n",
       "1                 644.2            86.7  \n",
       "2                 465.6            31.8  \n",
       "3                 109.0            19.7  \n",
       "4                 113.3            38.6  \n",
       "..                  ...             ...  \n",
       "872                87.7            42.3  \n",
       "873               268.8            23.4  \n",
       "874                84.1            18.0  \n",
       "875               237.6            44.1  \n",
       "876               313.3           112.8  \n",
       "\n",
       "[877 rows x 9 columns]"
      ]
     },
     "execution_count": 15,
     "metadata": {},
     "output_type": "execute_result"
    }
   ],
   "source": [
    "url = 'https://github.com/bradybr/practical-data-science-and-ml/blob/main/datasets/sleep_study.csv?raw=true'\n",
    "dat = pd.read_csv(url, sep = ',')\n",
    "dat"
   ]
  },
  {
   "cell_type": "code",
   "execution_count": 20,
   "id": "a356fbc4-eb77-43e6-a43a-2f84c861feed",
   "metadata": {},
   "outputs": [
    {
     "data": {
      "text/plain": [
       "(877, 9)"
      ]
     },
     "execution_count": 20,
     "metadata": {},
     "output_type": "execute_result"
    }
   ],
   "source": [
    "dat.shape"
   ]
  },
  {
   "cell_type": "code",
   "execution_count": 16,
   "id": "104d8768-e5e6-47e0-ae5d-2cb4ff6a4f9f",
   "metadata": {},
   "outputs": [
    {
     "name": "stdout",
     "output_type": "stream",
     "text": [
      "<class 'pandas.core.frame.DataFrame'>\n",
      "RangeIndex: 877 entries, 0 to 876\n",
      "Data columns (total 9 columns):\n",
      " #   Column              Non-Null Count  Dtype  \n",
      "---  ------              --------------  -----  \n",
      " 0   id                  877 non-null    int64  \n",
      " 1   gender              877 non-null    object \n",
      " 2   age                 876 non-null    float64\n",
      " 3   country             877 non-null    object \n",
      " 4   study_begin         877 non-null    object \n",
      " 5   study_end           864 non-null    object \n",
      " 6   active_mins         873 non-null    float64\n",
      " 7   sleep_disturb_mins  871 non-null    float64\n",
      " 8   sleep_rem_mins      868 non-null    float64\n",
      "dtypes: float64(4), int64(1), object(4)\n",
      "memory usage: 61.8+ KB\n"
     ]
    }
   ],
   "source": [
    "dat.info()"
   ]
  },
  {
   "cell_type": "code",
   "execution_count": 17,
   "id": "d7715420-0df2-469a-8752-8bc28350d37b",
   "metadata": {},
   "outputs": [],
   "source": [
    "vars = ['age','active_mins','sleep_disturb_mins','sleep_rem_mins']\n",
    "dat[vars] = dat[vars].astype('float')\n",
    "\n",
    "vars = ['id']\n",
    "dat[vars] = dat[vars].astype('object')"
   ]
  },
  {
   "cell_type": "code",
   "execution_count": 18,
   "id": "322342a0-dd95-4613-8a9e-3f2c7defaea8",
   "metadata": {},
   "outputs": [
    {
     "name": "stdout",
     "output_type": "stream",
     "text": [
      "<class 'pandas.core.frame.DataFrame'>\n",
      "RangeIndex: 877 entries, 0 to 876\n",
      "Data columns (total 9 columns):\n",
      " #   Column              Non-Null Count  Dtype  \n",
      "---  ------              --------------  -----  \n",
      " 0   id                  877 non-null    object \n",
      " 1   gender              877 non-null    object \n",
      " 2   age                 876 non-null    float64\n",
      " 3   country             877 non-null    object \n",
      " 4   study_begin         877 non-null    object \n",
      " 5   study_end           864 non-null    object \n",
      " 6   active_mins         873 non-null    float64\n",
      " 7   sleep_disturb_mins  871 non-null    float64\n",
      " 8   sleep_rem_mins      868 non-null    float64\n",
      "dtypes: float64(4), object(5)\n",
      "memory usage: 61.8+ KB\n"
     ]
    }
   ],
   "source": [
    "dat.info()"
   ]
  },
  {
   "cell_type": "markdown",
   "id": "c7f0c353-4ced-49ce-a35e-269b1dbbb6be",
   "metadata": {},
   "source": [
    "- Cardinality\n",
    "- Extreme values\n",
    "- Skewness"
   ]
  },
  {
   "cell_type": "code",
   "execution_count": 33,
   "id": "e2f7b0c1-568c-4bd0-b7b8-a9022c7098ec",
   "metadata": {},
   "outputs": [
    {
     "data": {
      "text/html": [
       "<div>\n",
       "<style scoped>\n",
       "    .dataframe tbody tr th:only-of-type {\n",
       "        vertical-align: middle;\n",
       "    }\n",
       "\n",
       "    .dataframe tbody tr th {\n",
       "        vertical-align: top;\n",
       "    }\n",
       "\n",
       "    .dataframe thead th {\n",
       "        text-align: right;\n",
       "    }\n",
       "</style>\n",
       "<table border=\"1\" class=\"dataframe\">\n",
       "  <thead>\n",
       "    <tr style=\"text-align: right;\">\n",
       "      <th></th>\n",
       "      <th>age</th>\n",
       "      <th>active_mins</th>\n",
       "      <th>sleep_disturb_mins</th>\n",
       "      <th>sleep_rem_mins</th>\n",
       "    </tr>\n",
       "  </thead>\n",
       "  <tbody>\n",
       "    <tr>\n",
       "      <th>count</th>\n",
       "      <td>876.000000</td>\n",
       "      <td>873.000000</td>\n",
       "      <td>871.000000</td>\n",
       "      <td>868.000000</td>\n",
       "    </tr>\n",
       "    <tr>\n",
       "      <th>mean</th>\n",
       "      <td>54.180365</td>\n",
       "      <td>215.113288</td>\n",
       "      <td>311.560505</td>\n",
       "      <td>121.689862</td>\n",
       "    </tr>\n",
       "    <tr>\n",
       "      <th>std</th>\n",
       "      <td>23.713565</td>\n",
       "      <td>818.659392</td>\n",
       "      <td>816.548732</td>\n",
       "      <td>825.359631</td>\n",
       "    </tr>\n",
       "    <tr>\n",
       "      <th>min</th>\n",
       "      <td>0.000000</td>\n",
       "      <td>2.000000</td>\n",
       "      <td>2.000000</td>\n",
       "      <td>2.000000</td>\n",
       "    </tr>\n",
       "    <tr>\n",
       "      <th>25%</th>\n",
       "      <td>35.000000</td>\n",
       "      <td>81.300000</td>\n",
       "      <td>146.700000</td>\n",
       "      <td>26.500000</td>\n",
       "    </tr>\n",
       "    <tr>\n",
       "      <th>50%</th>\n",
       "      <td>54.000000</td>\n",
       "      <td>130.500000</td>\n",
       "      <td>226.900000</td>\n",
       "      <td>43.800000</td>\n",
       "    </tr>\n",
       "    <tr>\n",
       "      <th>75%</th>\n",
       "      <td>74.000000</td>\n",
       "      <td>199.700000</td>\n",
       "      <td>322.950000</td>\n",
       "      <td>69.300000</td>\n",
       "    </tr>\n",
       "    <tr>\n",
       "      <th>max</th>\n",
       "      <td>146.000000</td>\n",
       "      <td>9999.000000</td>\n",
       "      <td>9999.000000</td>\n",
       "      <td>9999.000000</td>\n",
       "    </tr>\n",
       "  </tbody>\n",
       "</table>\n",
       "</div>"
      ],
      "text/plain": [
       "              age  active_mins  sleep_disturb_mins  sleep_rem_mins\n",
       "count  876.000000   873.000000          871.000000      868.000000\n",
       "mean    54.180365   215.113288          311.560505      121.689862\n",
       "std     23.713565   818.659392          816.548732      825.359631\n",
       "min      0.000000     2.000000            2.000000        2.000000\n",
       "25%     35.000000    81.300000          146.700000       26.500000\n",
       "50%     54.000000   130.500000          226.900000       43.800000\n",
       "75%     74.000000   199.700000          322.950000       69.300000\n",
       "max    146.000000  9999.000000         9999.000000     9999.000000"
      ]
     },
     "execution_count": 33,
     "metadata": {},
     "output_type": "execute_result"
    }
   ],
   "source": [
    "dat.describe()"
   ]
  },
  {
   "cell_type": "code",
   "execution_count": 35,
   "id": "7602b2f9-4734-4093-8c93-66ab95f31e07",
   "metadata": {},
   "outputs": [
    {
     "data": {
      "text/html": [
       "<div>\n",
       "<style scoped>\n",
       "    .dataframe tbody tr th:only-of-type {\n",
       "        vertical-align: middle;\n",
       "    }\n",
       "\n",
       "    .dataframe tbody tr th {\n",
       "        vertical-align: top;\n",
       "    }\n",
       "\n",
       "    .dataframe thead th {\n",
       "        text-align: right;\n",
       "    }\n",
       "</style>\n",
       "<table border=\"1\" class=\"dataframe\">\n",
       "  <thead>\n",
       "    <tr style=\"text-align: right;\">\n",
       "      <th></th>\n",
       "      <th>id</th>\n",
       "      <th>gender</th>\n",
       "      <th>country</th>\n",
       "    </tr>\n",
       "  </thead>\n",
       "  <tbody>\n",
       "    <tr>\n",
       "      <th>count</th>\n",
       "      <td>877</td>\n",
       "      <td>877</td>\n",
       "      <td>877</td>\n",
       "    </tr>\n",
       "    <tr>\n",
       "      <th>unique</th>\n",
       "      <td>875</td>\n",
       "      <td>2</td>\n",
       "      <td>4</td>\n",
       "    </tr>\n",
       "    <tr>\n",
       "      <th>top</th>\n",
       "      <td>89</td>\n",
       "      <td>F</td>\n",
       "      <td>Italy</td>\n",
       "    </tr>\n",
       "    <tr>\n",
       "      <th>freq</th>\n",
       "      <td>2</td>\n",
       "      <td>613</td>\n",
       "      <td>345</td>\n",
       "    </tr>\n",
       "  </tbody>\n",
       "</table>\n",
       "</div>"
      ],
      "text/plain": [
       "         id gender country\n",
       "count   877    877     877\n",
       "unique  875      2       4\n",
       "top      89      F   Italy\n",
       "freq      2    613     345"
      ]
     },
     "execution_count": 35,
     "metadata": {},
     "output_type": "execute_result"
    }
   ],
   "source": [
    "dat[['id','gender','country']].describe()"
   ]
  },
  {
   "cell_type": "code",
   "execution_count": 59,
   "id": "38697c64-ae90-42be-8bdd-3e5fba8310ee",
   "metadata": {},
   "outputs": [
    {
     "data": {
      "text/plain": [
       "id                     0\n",
       "gender                 0\n",
       "age                    1\n",
       "country                0\n",
       "study_begin            0\n",
       "study_end             13\n",
       "active_mins            4\n",
       "sleep_disturb_mins     6\n",
       "sleep_rem_mins         9\n",
       "dtype: int64"
      ]
     },
     "execution_count": 59,
     "metadata": {},
     "output_type": "execute_result"
    }
   ],
   "source": [
    "dat.isna().sum()"
   ]
  },
  {
   "cell_type": "code",
   "execution_count": 45,
   "id": "044cbf31-f6e5-42ec-9be3-de105728c721",
   "metadata": {},
   "outputs": [
    {
     "data": {
      "text/html": [
       "<div>\n",
       "<style scoped>\n",
       "    .dataframe tbody tr th:only-of-type {\n",
       "        vertical-align: middle;\n",
       "    }\n",
       "\n",
       "    .dataframe tbody tr th {\n",
       "        vertical-align: top;\n",
       "    }\n",
       "\n",
       "    .dataframe thead th {\n",
       "        text-align: right;\n",
       "    }\n",
       "</style>\n",
       "<table border=\"1\" class=\"dataframe\">\n",
       "  <thead>\n",
       "    <tr style=\"text-align: right;\">\n",
       "      <th></th>\n",
       "      <th>id</th>\n",
       "      <th>gender</th>\n",
       "      <th>age</th>\n",
       "      <th>country</th>\n",
       "      <th>study_begin</th>\n",
       "      <th>study_end</th>\n",
       "      <th>active_mins</th>\n",
       "      <th>sleep_disturb_mins</th>\n",
       "      <th>sleep_rem_mins</th>\n",
       "    </tr>\n",
       "  </thead>\n",
       "  <tbody>\n",
       "    <tr>\n",
       "      <th>88</th>\n",
       "      <td>89</td>\n",
       "      <td>F</td>\n",
       "      <td>53.0</td>\n",
       "      <td>Italy</td>\n",
       "      <td>4/3/2021</td>\n",
       "      <td>4/9/2023</td>\n",
       "      <td>141.0</td>\n",
       "      <td>186.6</td>\n",
       "      <td>107.1</td>\n",
       "    </tr>\n",
       "    <tr>\n",
       "      <th>238</th>\n",
       "      <td>238</td>\n",
       "      <td>M</td>\n",
       "      <td>0.0</td>\n",
       "      <td>Poland</td>\n",
       "      <td>4/3/2021</td>\n",
       "      <td>4/9/2023</td>\n",
       "      <td>2.0</td>\n",
       "      <td>2.0</td>\n",
       "      <td>2.0</td>\n",
       "    </tr>\n",
       "  </tbody>\n",
       "</table>\n",
       "</div>"
      ],
      "text/plain": [
       "      id gender   age country study_begin study_end  active_mins  \\\n",
       "88    89      F  53.0   Italy    4/3/2021  4/9/2023        141.0   \n",
       "238  238      M   0.0  Poland    4/3/2021  4/9/2023          2.0   \n",
       "\n",
       "     sleep_disturb_mins  sleep_rem_mins  \n",
       "88                186.6           107.1  \n",
       "238                 2.0             2.0  "
      ]
     },
     "execution_count": 45,
     "metadata": {},
     "output_type": "execute_result"
    }
   ],
   "source": [
    "dat[dat.duplicated()]"
   ]
  },
  {
   "cell_type": "code",
   "execution_count": 53,
   "id": "e4536c3f-1d05-46e9-9402-5b65c1b05217",
   "metadata": {},
   "outputs": [
    {
     "data": {
      "text/html": [
       "<div>\n",
       "<style scoped>\n",
       "    .dataframe tbody tr th:only-of-type {\n",
       "        vertical-align: middle;\n",
       "    }\n",
       "\n",
       "    .dataframe tbody tr th {\n",
       "        vertical-align: top;\n",
       "    }\n",
       "\n",
       "    .dataframe thead th {\n",
       "        text-align: right;\n",
       "    }\n",
       "</style>\n",
       "<table border=\"1\" class=\"dataframe\">\n",
       "  <thead>\n",
       "    <tr style=\"text-align: right;\">\n",
       "      <th></th>\n",
       "      <th>id</th>\n",
       "      <th>gender</th>\n",
       "      <th>age</th>\n",
       "      <th>country</th>\n",
       "      <th>study_begin</th>\n",
       "      <th>study_end</th>\n",
       "      <th>active_mins</th>\n",
       "      <th>sleep_disturb_mins</th>\n",
       "      <th>sleep_rem_mins</th>\n",
       "    </tr>\n",
       "  </thead>\n",
       "  <tbody>\n",
       "    <tr>\n",
       "      <th>87</th>\n",
       "      <td>89</td>\n",
       "      <td>F</td>\n",
       "      <td>53.0</td>\n",
       "      <td>Italy</td>\n",
       "      <td>4/3/2021</td>\n",
       "      <td>4/9/2023</td>\n",
       "      <td>141.0</td>\n",
       "      <td>186.6</td>\n",
       "      <td>107.1</td>\n",
       "    </tr>\n",
       "    <tr>\n",
       "      <th>88</th>\n",
       "      <td>89</td>\n",
       "      <td>F</td>\n",
       "      <td>53.0</td>\n",
       "      <td>Italy</td>\n",
       "      <td>4/3/2021</td>\n",
       "      <td>4/9/2023</td>\n",
       "      <td>141.0</td>\n",
       "      <td>186.6</td>\n",
       "      <td>107.1</td>\n",
       "    </tr>\n",
       "    <tr>\n",
       "      <th>237</th>\n",
       "      <td>238</td>\n",
       "      <td>M</td>\n",
       "      <td>0.0</td>\n",
       "      <td>Poland</td>\n",
       "      <td>4/3/2021</td>\n",
       "      <td>4/9/2023</td>\n",
       "      <td>2.0</td>\n",
       "      <td>2.0</td>\n",
       "      <td>2.0</td>\n",
       "    </tr>\n",
       "    <tr>\n",
       "      <th>238</th>\n",
       "      <td>238</td>\n",
       "      <td>M</td>\n",
       "      <td>0.0</td>\n",
       "      <td>Poland</td>\n",
       "      <td>4/3/2021</td>\n",
       "      <td>4/9/2023</td>\n",
       "      <td>2.0</td>\n",
       "      <td>2.0</td>\n",
       "      <td>2.0</td>\n",
       "    </tr>\n",
       "  </tbody>\n",
       "</table>\n",
       "</div>"
      ],
      "text/plain": [
       "      id gender   age country study_begin study_end  active_mins  \\\n",
       "87    89      F  53.0   Italy    4/3/2021  4/9/2023        141.0   \n",
       "88    89      F  53.0   Italy    4/3/2021  4/9/2023        141.0   \n",
       "237  238      M   0.0  Poland    4/3/2021  4/9/2023          2.0   \n",
       "238  238      M   0.0  Poland    4/3/2021  4/9/2023          2.0   \n",
       "\n",
       "     sleep_disturb_mins  sleep_rem_mins  \n",
       "87                186.6           107.1  \n",
       "88                186.6           107.1  \n",
       "237                 2.0             2.0  \n",
       "238                 2.0             2.0  "
      ]
     },
     "execution_count": 53,
     "metadata": {},
     "output_type": "execute_result"
    }
   ],
   "source": [
    "dat[dat['id'].isin([89,238])]"
   ]
  },
  {
   "cell_type": "code",
   "execution_count": 56,
   "id": "1920ded4-66f2-415d-b6c8-4810b68c9306",
   "metadata": {},
   "outputs": [],
   "source": [
    "dat.drop_duplicates(inplace = True)"
   ]
  },
  {
   "cell_type": "code",
   "execution_count": 58,
   "id": "072e05f7-0b1c-4b49-a799-60018fa5baeb",
   "metadata": {},
   "outputs": [
    {
     "data": {
      "text/plain": [
       "(875, 9)"
      ]
     },
     "execution_count": 58,
     "metadata": {},
     "output_type": "execute_result"
    }
   ],
   "source": [
    "dat.shape"
   ]
  },
  {
   "cell_type": "code",
   "execution_count": null,
   "id": "383b6a14-8806-4dc7-9c9e-0c4687d1e548",
   "metadata": {},
   "outputs": [],
   "source": []
  },
  {
   "cell_type": "code",
   "execution_count": null,
   "id": "7995138b-ba72-4ad3-85b4-a7fc1e771522",
   "metadata": {},
   "outputs": [],
   "source": []
  },
  {
   "cell_type": "code",
   "execution_count": null,
   "id": "70cd7fa8-46bf-40f6-83eb-30b885b6409f",
   "metadata": {},
   "outputs": [],
   "source": [
    "from ydata_profiling import ProfileReport\n",
    "\n",
    "dqr = ProfileReport(dat, title = \"Profiling Report\")\n",
    "dqr.to_notebook_iframe()"
   ]
  },
  {
   "cell_type": "code",
   "execution_count": null,
   "id": "16a68510-819f-42c4-9fd2-ab3a89be9ad7",
   "metadata": {},
   "outputs": [],
   "source": []
  }
 ],
 "metadata": {
  "kernelspec": {
   "display_name": "Python 3 (ipykernel)",
   "language": "python",
   "name": "python3"
  },
  "language_info": {
   "codemirror_mode": {
    "name": "ipython",
    "version": 3
   },
   "file_extension": ".py",
   "mimetype": "text/x-python",
   "name": "python",
   "nbconvert_exporter": "python",
   "pygments_lexer": "ipython3",
   "version": "3.11.5"
  }
 },
 "nbformat": 4,
 "nbformat_minor": 5
}
