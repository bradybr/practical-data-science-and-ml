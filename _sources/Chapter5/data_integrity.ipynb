{
 "cells": [
  {
   "cell_type": "markdown",
   "id": "d8794e27-7581-48be-8c54-04d535c866f9",
   "metadata": {},
   "source": [
    "# Data Integrity"
   ]
  },
  {
   "cell_type": "markdown",
   "id": "d940e01f-be94-44ba-8a34-dfbc9db8cb4d",
   "metadata": {},
   "source": [
    "Unfortunately as we've said before, it's not just read in the data and get to modeling.  There's so much time devoted to getting the data, checking it, summarizing, asking questions, fixing issues, then rinse and repeat.  Real-world data is super messy and there's no one size fits all methodology.  Nearly every dataset will be unique and have some kind of peculiarities specific to the domain and data collections method.\n",
    "\n",
    "Luckily for us there are definitely some standard best practices so we won't be figthing in the dark.  We at least always know where we should start, and then we let the findings guide us from there.  Assessing the quality and integrity of your data is ridiculously critical to the success of your project so I caution you to not take it too lightly.  Remember talking about \"garbage in, garbage out\"?  If your data is riddled with holes and untrustworthy data, then your entire model and project won't be worth a darn.  You can bank on it."
   ]
  },
  {
   "cell_type": "markdown",
   "id": "b012ad73-5e79-4a73-9742-14ccd1c43810",
   "metadata": {},
   "source": [
    "In this section we'll cover the most common issues you'll see with your data.  There are others to be sure, but they'll be less common and more domain specific in most cases.\n",
    "\n",
    "- Missing Values\n",
    "- Missing Records\n",
    "- Duplicate Records\n",
    "- Winsorizing/Placeholders\n",
    "- Outliers\n",
    "- Sensoring"
   ]
  },
  {
   "cell_type": "code",
   "execution_count": null,
   "id": "c1c9fa32-9e79-4889-be4b-e1e2e01b3ab2",
   "metadata": {},
   "outputs": [],
   "source": []
  },
  {
   "cell_type": "code",
   "execution_count": null,
   "id": "60ff7aa7-eafe-4b23-b8be-696493de43de",
   "metadata": {},
   "outputs": [],
   "source": []
  },
  {
   "cell_type": "code",
   "execution_count": null,
   "id": "e353d22f-f3e0-43e8-99e5-75859ebe554a",
   "metadata": {},
   "outputs": [],
   "source": []
  },
  {
   "cell_type": "code",
   "execution_count": null,
   "id": "4a5bf650-9287-45ff-a435-10de16ba754b",
   "metadata": {},
   "outputs": [],
   "source": []
  },
  {
   "cell_type": "code",
   "execution_count": null,
   "id": "14bc98f2-16b5-497f-88ce-e48bed604abf",
   "metadata": {},
   "outputs": [],
   "source": []
  },
  {
   "cell_type": "code",
   "execution_count": null,
   "id": "9b54acc9-0a24-49ea-a68a-c8c1d751b39e",
   "metadata": {},
   "outputs": [],
   "source": []
  },
  {
   "cell_type": "code",
   "execution_count": null,
   "id": "c1ac8d2b-9ed6-471a-b479-791b46dc2d1e",
   "metadata": {},
   "outputs": [],
   "source": []
  }
 ],
 "metadata": {
  "kernelspec": {
   "display_name": "Python 3 (ipykernel)",
   "language": "python",
   "name": "python3"
  },
  "language_info": {
   "codemirror_mode": {
    "name": "ipython",
    "version": 3
   },
   "file_extension": ".py",
   "mimetype": "text/x-python",
   "name": "python",
   "nbconvert_exporter": "python",
   "pygments_lexer": "ipython3",
   "version": "3.11.5"
  }
 },
 "nbformat": 4,
 "nbformat_minor": 5
}
