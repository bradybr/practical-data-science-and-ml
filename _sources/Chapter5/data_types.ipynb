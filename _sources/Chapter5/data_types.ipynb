{
 "cells": [
  {
   "cell_type": "markdown",
   "id": "d8794e27-7581-48be-8c54-04d535c866f9",
   "metadata": {},
   "source": [
    "# Data Types"
   ]
  },
  {
   "cell_type": "markdown",
   "id": "4f8adf77-1113-483f-b361-51f5cd97a4b2",
   "metadata": {},
   "source": []
  },
  {
   "cell_type": "markdown",
   "id": "3322de16-e387-407e-978a-91c28180dc23",
   "metadata": {},
   "source": []
  },
  {
   "cell_type": "markdown",
   "id": "5b12459a-2feb-42a4-816e-69ee278a8eb0",
   "metadata": {},
   "source": []
  },
  {
   "cell_type": "markdown",
   "id": "fad60148-185c-4fa9-9369-0e51b8228cfd",
   "metadata": {},
   "source": []
  },
  {
   "cell_type": "markdown",
   "id": "5d4e820d-8fa7-4b16-98b9-53a91bfedae4",
   "metadata": {},
   "source": []
  },
  {
   "cell_type": "markdown",
   "id": "31424312-056b-49af-bbf0-a11cc6aeac6e",
   "metadata": {},
   "source": []
  },
  {
   "cell_type": "code",
   "execution_count": null,
   "id": "2aac4447-087c-48b3-9690-9ee5f0784afb",
   "metadata": {},
   "outputs": [],
   "source": []
  },
  {
   "cell_type": "code",
   "execution_count": null,
   "id": "c4f51f46-83fb-465e-89b8-c2691984304b",
   "metadata": {},
   "outputs": [],
   "source": []
  },
  {
   "cell_type": "code",
   "execution_count": null,
   "id": "a4382838-3118-4770-9d7f-6efec8e924a7",
   "metadata": {},
   "outputs": [],
   "source": []
  }
 ],
 "metadata": {
  "kernelspec": {
   "display_name": "Python 3 (ipykernel)",
   "language": "python",
   "name": "python3"
  },
  "language_info": {
   "codemirror_mode": {
    "name": "ipython",
    "version": 3
   },
   "file_extension": ".py",
   "mimetype": "text/x-python",
   "name": "python",
   "nbconvert_exporter": "python",
   "pygments_lexer": "ipython3",
   "version": "3.11.5"
  }
 },
 "nbformat": 4,
 "nbformat_minor": 5
}
