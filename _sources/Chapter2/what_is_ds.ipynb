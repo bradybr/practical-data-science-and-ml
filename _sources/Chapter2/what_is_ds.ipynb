{
 "cells": [
  {
   "cell_type": "markdown",
   "metadata": {
    "tags": []
   },
   "source": [
    "# What Is Data Science?"
   ]
  },
  {
   "cell_type": "markdown",
   "metadata": {},
   "source": [
    "> It was impossible to get a conversation going, everybody was talking too much.\n",
    ">\n",
    "> -- <cite>Yogi Berra</cite>"
   ]
  },
  {
   "cell_type": "markdown",
   "metadata": {},
   "source": [
    "Ask ten different people what Data Science is and you'll very likely get ten different answers.  It's a loaded question clouded by buzz words, assumptions, egos, and domain specific interpretations."
   ]
  },
  {
   "cell_type": "markdown",
   "metadata": {},
   "source": [
    "With stability comes standardization, but unfortunately in the case of emerging innovation as with the fields of Artificial Intelligence and Data Science, you get the opposite effect: lack of standardization.  These emerging fields are in a constant state of flux.  Technology evolves enabling new capabilities, academia and businesses create new personas, consensus shifts on what's in and what's out under an umbrella term like Data Science, and things are forever being rebranded to recenter the focus after a field gets too messy.  "
   ]
  },
  {
   "cell_type": "markdown",
   "metadata": {},
   "source": [
    "Words matter.  We use them to compartmentalize and categorize.  We use them to convey information so others can understand our meaning. To the extent that we need overselves and others to comprehend what we're talking about and understand what's included and excluded, these words matter.  Beyond this comprehension I would argue, there's little practical value in endlessly debating and nit-picking the semantics and ownership of which field owns which methodology.\n",
    "\n",
    "For our purposes, what _really_ matters at the end of the day is that you're able to:\n",
    "\n",
    " - Understand what other people are talking about\n",
    " - Convey your message in such a way that others are able to understand what you're talking about\n",
    " - Get to the bottom of what really matters, which is understanding the objectives, value potential, and how to solve a problem\n",
    "\n",
    "<br>"
   ]
  },
  {
   "cell_type": "markdown",
   "metadata": {},
   "source": [
    "Knowing what level of understanding we're after, let's start with one of the simplest definitions of Data Science generally seen in the wild."
   ]
  },
  {
   "cell_type": "markdown",
   "metadata": {},
   "source": [
    "```{note}\n",
    "_Data Science_ is a field of study which analyzes data to find patterns and extract meaningful insights.\n",
    "```\n",
    "<br>"
   ]
  },
  {
   "cell_type": "markdown",
   "metadata": {},
   "source": [
    "Seems straightforward enough.  Doesn't it seem a little broad though?  Does this mean that anyone looking at data and finds anything interesting is doing data science work?  Hmm... probably not.  With this definition, anyone from a busines analyst to the CEO could be engaged in data science work.  While possible, it's most likely not the case.  There's probably a more detailed description we can tease out if we add a few layers of contextualization to tighten up the screws.  Going back to the idea of compartmentalization, what additional information might you want to know to help us settle on an understanding of what we're talking about?\n",
    "\n",
    "How about if we knew the following?\n",
    "\n",
    " - What kinds of projects we solve\n",
    " - The specific fields of study and skills involved\n",
    " \n",
    " <br>\n",
    "\n",
    "Equipped with these questions we should be able to expand on our early definition, starting with the types of projects we work on."
   ]
  },
  {
   "cell_type": "markdown",
   "metadata": {},
   "source": [
    "<h3>What kinds of problems do we solve?</h3>"
   ]
  },
  {
   "cell_type": "markdown",
   "metadata": {},
   "source": [
    "The easiest way to make clear what we're talking about is probably to jump in and show some examples.  We'll go into more detail in subsequent chapters, but for now you can at least get a taste of the concepts.  \n",
    "\n",
    "Let's start with a view of the analytics continuum.  There's no value judgement below, as significant value can be found anywhere along the continuum; however, there is a natural progression of implied complexity as you move from left to right.  Data scientists mostly _want_ to live on the right side of the graphic, but it's certainly not unusual to progress through the descriptive, visual, and statistical steps during the course of an actual project."
   ]
  },
  {
   "cell_type": "markdown",
   "metadata": {},
   "source": [
    "```{figure} ../images/analytics_craddle.png\n",
    "---\n",
    "width: 700px\n",
    "name: analytics-craddle-fig\n",
    "---\n",
    "Analytics Continuum\n",
    "```"
   ]
  },
  {
   "cell_type": "markdown",
   "metadata": {},
   "source": [
    "These lists are non mutually exclusive, and we'll often say \"generally\" because there are few hard and fast rules here.  It's not unusual for a data scientist to be working on a project using only traditional statistical methods.  Again, it's not important that we're super strict with definitions and classifications, but more so that we gain a better understanding of what's commonly considered to be included under the umbrella of Data Science."
   ]
  },
  {
   "cell_type": "markdown",
   "metadata": {},
   "source": [
    "<h5>Descriptive Analytics</h5>"
   ]
  },
  {
   "cell_type": "markdown",
   "metadata": {},
   "source": [
    "If we look at {numref}`analytics-craddle-fig`, we can understand that the majority of the traditional analytics produced today falls into the first bucket of trying to explain _what happened_ (Descriptive Analytics).  Why?  Because it's the most accessible and requires the least amount of specialized knowledge.  Nearly every entry level business associate should be able to take some historical data and summarize it in some interesting way.\n",
    "\n",
    " - What's the percentage of sales for this quarter by region?\n",
    " - Which late shipment reason code was applied the most often last month?\n",
    " - Which customers are paying their invoices late, ranked as a percentage of total sales?\n",
    "\n",
    "<br>"
   ]
  },
  {
   "cell_type": "markdown",
   "metadata": {},
   "source": [
    "How about highlighting your findings with a simple barplot?\n",
    "\n",
    "Is there any evidence of chivalry based on the survial rates from the Titanic?  Turns out... maybe.  In the plot below we can see that over 80% of men perished that fateful night, whereas only 26% of the women on board died.  Very interesting.   _Women and children first_ possibly?"
   ]
  },
  {
   "cell_type": "markdown",
   "metadata": {},
   "source": [
    "```{figure} ../images/titanic_survival_by_sex.png\n",
    "---\n",
    "width: 500px\n",
    "name: titanic-survival-by-sex-fig\n",
    "---\n",
    "Titanic Survival Rates by Sex\n",
    "```"
   ]
  },
  {
   "cell_type": "markdown",
   "metadata": {},
   "source": [
    "This is all the domain of Descriptive Analytics.  Overall, pretty intuitive, first blush questions you might think of when interrogating a data set, which is why it's the most frequently employed."
   ]
  },
  {
   "cell_type": "markdown",
   "metadata": {},
   "source": [
    "```{tip}\n",
    "Analytics does not have to be complicated, and significant value can often be found by simply uncovering basic information, provided it can be acted upon to affect change.\n",
    "```"
   ]
  },
  {
   "cell_type": "markdown",
   "metadata": {},
   "source": [
    "<h5>Diagnostic Analytics</h5>"
   ]
  },
  {
   "cell_type": "markdown",
   "metadata": {
    "tags": []
   },
   "source": [
    "Moving on to trying to understanding _why_ something happend.  Diagnostic Analytics in {numref}`analytics-craddle-fig` shows us this bucket has been the traditional home for the more advanced and mathematically inclined in any organization.  These have historically been engineers, economists, statisticians, research and development (R&D), demand planners, and even MBA's, to name a few.  \n",
    "\n",
    "What's important to point out here, is that this set is working with higher order mathematics more so than the average analyst.  We'll discuss this further when we get to methodologies, but for now it's enough to know what really sets this group apart is their statistical prowess.  We do see some crossover into the more data science-sy territory with this group because we often use some of the same math and solvers.  Where we usually diverage is in the end-to-end business continuity, the types of problems we solve, the technology and programming languages we use, and the applications we build.  I know it's hard to see the distinctions now, but stay tuned.  It will become more clear as we introduce new topics."
   ]
  },
  {
   "cell_type": "markdown",
   "metadata": {},
   "source": [
    "An example for this group wouldn't be complete without mentioning the workhorse of statistics:  Regression.\n",
    "\n",
    " - Want to understand the relationship between height and weight?\n",
    " - Want to estimate what raising your retail prices will do to sales?\n",
    " - Want to understand if a promotion you ran last month influenced your sales?\n",
    "\n",
    "<br>\n",
    "\n",
    "Then welcome to statistics and regression my friend.  There are lots of other methodologies being used with diagnostic analysis, but the main distinction is we're essentially stopping short of predictions and instead usually making some sort of statistical inference.\n",
    "\n",
    "We'll cover these topics again in later chapters, so don't feel like you're missing anything if you don't quite understand the _how_ behind the ways these questions are answered or the details behind these methods."
   ]
  },
  {
   "cell_type": "markdown",
   "metadata": {
    "tags": []
   },
   "source": [
    "<h5>Predictive Analytics</h5>"
   ]
  },
  {
   "cell_type": "markdown",
   "metadata": {},
   "source": [
    "Now we get to the fun stuff (IMHO).  Predictive analytics always felt like the \"what's new and different\" when I was first introduced to the field.  Entry-level resources are capable of analyzing data with simple summary statistics, and statistics was burned into my brain as a chore from my college years, but now I was being asked to think about how cool it would be if I was able to predict which specific employees were likely quit next month, or which product had the highest probability of running out of inventory next week.  Taken even further with topics that held more personal interest was really exciting as well.  Could I predict the winner of the upcoming MLB baseball game?  Could I predict which stock had the highest probability of going up in price tomorrow?  How about being able to predict the setlist of a concert I was going to see this summer (trust me, it's kind of a big deal for this band, and I would the king if I was able to pull it off)?  Super fun stuff!"
   ]
  },
  {
   "cell_type": "markdown",
   "metadata": {},
   "source": [
    "This set of analytics is generally where we begin to see separation from what a traditional \"math\" persona or statistician might be comfortable doing.  We also start throwing around words like \"algorithm\" and \"model\" far more frequently at this stage.  You can definitely build diagnostic models, but when we get to the predictive stage we're now mostly talking about building end-to-end, deployable, and resuable containerized models.  Essentially this means we're no longer talking about just answering a one-time question or a one-off study like with diagnostics.  Here we may want to frequently run new data through our model and have it continuously spit out new predictions at regular intervals. "
   ]
  },
  {
   "cell_type": "markdown",
   "metadata": {},
   "source": [
    "You'll be introduced to all kinds of new topics when we begin discussing the methodologies and mathematics from this set in future chapters, but for now try to wrap your head around this idea: We start with data as inputs, then we build models to learn patterns and relationships between the subjects of interest, next we project those learned patterns onto new data inputs, which finally produces a prediction of some kind."
   ]
  },
  {
   "cell_type": "markdown",
   "metadata": {},
   "source": [
    " - Predicting which consumers have the highest likely of responding to a promotional offer\n",
    " - Predicting which piece of manufacturing equipment is likely to break down within the next month\n",
    " - Forecasting sales for next quarter\n",
    " - Grouping products together to reveal hidden similarities\n",
    " - Detecting foreign objects and ingredient contaminants in food manufacturing\n",
    " \n",
    " <br>"
   ]
  },
  {
   "cell_type": "markdown",
   "metadata": {},
   "source": [
    "For another example, imagine how an anti-theft detection program might \"see\" crowds of people in a small shopping corridor and predict aberrant behvior.  Computers do not see things the same ways our human eyes and brains do so we need to somehow encode our data into a format our program can understand.  For now, just understand that public places like this often have software running analyzing video feeds for our facial expressions, body movements, and other indicators of specific behaviors.  From a technical point of view it's very cool, however kind of scary to think about from a personal privacy perspective, right?"
   ]
  },
  {
   "cell_type": "markdown",
   "metadata": {},
   "source": [
    "```{figure} ../images/crowd_id2.png\n",
    "---\n",
    "width: 700px\n",
    "name: crowd-id-fig\n",
    "---\n",
    "Anti-theft detection program\n",
    "```"
   ]
  },
  {
   "cell_type": "markdown",
   "metadata": {
    "tags": []
   },
   "source": [
    "<h5>Prescriptive Analytics</h5>"
   ]
  },
  {
   "cell_type": "markdown",
   "metadata": {},
   "source": [
    "Now we've arrived at the final, and typically the most complex type of analytics: Prescriptive."
   ]
  },
  {
   "cell_type": "markdown",
   "metadata": {},
   "source": [
    "Prescriptive Analytics is another set similar to Diagnostic Analytics, in that it has historically received plenty of attention, albeit from highly specialized practitioners.  These resources tend to be masters or Ph.D. level associates highly skilled in applied statistics, linear algebra, and calculus.  Practically speaking, the field of Operations Research, alternatively known as Management Science, has been the applied faction traditionally focused on linear modeling and optimization.\n",
    "\n",
    "Generally, the idea of this set is focused on steering an organization towards better, hopefully optimal, decision making, by using specialized mathematics and analytical techniques.  We want to _prescribe_, or direct our business stakeholders with information telling them what they should do.  The techniques we use can be anything from simple algebra and linear programs, stochastic optimization, to extremely complex non linear functional solvers.  Regardless of the type or industry, these optimization problems will nearly always have the same components, i.e. input variables, decision variables, an objective function, and optionally, constraints if applicable.  Lots of new terms here we'll explain in greater detail later, but think of optimization simply as taking in some information (input variables), telling it what answer you would like to get back (decision variables), describing what you would like the solution to minimize or maximize (objective function), and possibly giving it some rules the solution must respect (constraints)."
   ]
  },
  {
   "cell_type": "markdown",
   "metadata": {},
   "source": [
    "This type of optimization lends itself well to manufacturing and industries where there are complex operations with many possibilities for the choices or decisions one could make. \n",
    "\n",
    " - Resource shift scheduling\n",
    " - Transporation route planning\n",
    " - Production sequencing and scheduling\n",
    "\n",
    "<br>"
   ]
  },
  {
   "cell_type": "markdown",
   "metadata": {},
   "source": [
    "Taken even further to a more complex degree, a field of study known as Reinforcement Learning (RL) is having a moment in the public conciousness right now due to high profile companies such as Tesla.  Any guess as to how those fancy autonomous driving vehicles are learning how to avoid pedestrians and other obstacles?  You guessed it, reinforcement learning (among many other types of math and models).  RL is a type of complex specialized program that learns how to make sequential decisions that lead to the best cumulative benefit over a longer time horizon.  In manufacturing, these learned state-action policies are often used to automatically control extremely complex pieces of machinery without requiring human intervention."
   ]
  },
  {
   "cell_type": "markdown",
   "metadata": {},
   "source": [
    "```{figure} ../images/manif_process.png\n",
    "---\n",
    "width: 700px\n",
    "name: manif-process-fig\n",
    "---\n",
    "A complex manufacturing operation with parallel and sequential tasks\n",
    "```"
   ]
  },
  {
   "cell_type": "markdown",
   "metadata": {},
   "source": [
    "At this stage you've been introduced to some fundamental data science methodologies and project types at a very high level.  There's so much more to expound on and we'll begin to discuss in more detail in the upcoming sections.\n",
    "\n",
    "Let's pivot now to what makes data science unique from a skills and background point of view."
   ]
  },
  {
   "cell_type": "markdown",
   "metadata": {},
   "source": [
    "<h3>What fields of study and specialized skills are involved?</h3>"
   ]
  },
  {
   "cell_type": "markdown",
   "metadata": {
    "tags": []
   },
   "source": [
    "Next up, we'll take a look at the fields and skills involved with data science.  {numref}`ds-venn-fig` below is a very common Venn diagram illustrating the composition of a unicorn data scientist.  This little graphic will take us a long way towards understanding what we're talking about, so let's jump in."
   ]
  },
  {
   "cell_type": "markdown",
   "metadata": {},
   "source": [
    "```{figure} ../images/ds_venn.png\n",
    "---\n",
    "width: 400px\n",
    "name: ds-venn-fig\n",
    "---\n",
    "Data Science Venn Diagram\n",
    "```"
   ]
  },
  {
   "cell_type": "markdown",
   "metadata": {},
   "source": [
    "If data can be thought of as the medium in which we work, then these are the building blocks and tools that allow us to work with that data.  The challenges that obscure an easy definition here are the overlapping fields.  If you hear someone say they they fix car engines, then there's little question you could classify them as a mechinic.  There may be many variations of specialties as a mechanic, but essentially it's easy to comprehend what someone who fixes car engines does.  Same goes for if I told you I teach English.  I may provide English lessons via a web course for non English speaking refugees, but I'm still a teacher in the simplest terms.  For us data scientists, there are several overlapping fields front and center so unfortunatley it's not so cut and dry."
   ]
  },
  {
   "cell_type": "markdown",
   "metadata": {
    "tags": []
   },
   "source": [
    "<h5>Math & Statistics</h5>"
   ]
  },
  {
   "cell_type": "markdown",
   "metadata": {},
   "source": [
    "Firstly, _Math & Statistics_ are paramount, as you're hopefully starting to pick up from the examples thus far.  There are many flavors of mathematical specialties involved, which in my opinion is one of the main points that make us distinct from other analytics practitioners.  Data scientists are expected to be able to work across a large number of disciplines, whereas others may specialize in just one, or maybe two, fields of study.\n",
    "\n",
    "There are a few core sets of mathematics which underlie a great deal of the methodologies you'll come across in the field.  You certainly could get away with being pretty dangerous by just willy nilly using packaged functions and algorithms _without_ understanding what's going on under the hood; however, if you plan to do more harm than good you really should work at becoming fairly knowledgable and comfortable with the following.\n",
    "\n",
    " - Probability Theory\n",
    " - Information Theory\n",
    " - Frequentist/Bayesian Statistics\n",
    " - Linear Algebra\n",
    " - Calculus\n",
    "\n",
    "The early pioneers and practitioners of the field primiarly came from this set born out of academia, and were mostly mathematicians and scientists.  They were doing this work by hand and with early generation computers that could only do a tiny fraction of the computations that we take for granted today.\n",
    "\n",
    "If you talk to a 20 year veteran of engineering or statistics, you may hear them say they were doing data science work before it was the sexiest job of the 21st century, and that's because they very well might have been, by way of supervised learning regressions most likely.  At this current and more developed stage of the field however, there are likely pieces of the puzzle missing from these traditional practitioners, which is where we go next."
   ]
  },
  {
   "cell_type": "markdown",
   "metadata": {},
   "source": [
    "<h5>Computer Science</h5>"
   ]
  },
  {
   "cell_type": "markdown",
   "metadata": {},
   "source": [
    "Another point of distinction versus the traditional math and statistics breed is _Computer Science_.  No longer is it sufficient to only understand the math.  Technology is the conduit by which all of our cool mathematical theory sees the light of day.  If the early practitioners came from the math set before, today there's no doubt that we see a large number of entrants into the field coming from more traditional CS/IS/IT backgrounds.  This is due to the fact that it's much easier to simply jump straight in and begin using someone else's prepackaged algorithm and code, versus starting by learning math theory.  The technology behind what we're talking about is certainly complicated and can be difficult to learn, but from a user perspective though, it's objectively much easier to learn how to be a user of a technology _designed_ for your use, compared to universal theory and concepts that just _are_, and do not care if you understand them or not.\n",
    "\n",
    "Technology has drastically lowered the bar for entry into the field.  If you can learn a programming language and some basic deployment environment, then you have everything you need right now to build a machine learning model.  It's probably not a great idea, but you could nonetheless.\n",
    "\n",
    "Peruse any data scientist job posting today and you'll likely see a laundry list of technologies, architecture ecosystems, and programming languages required.  While not exhaustive, below is an example of what you might run across when searching.\n",
    "\n",
    " - Experience within the Microsoft Azure ecosystem (e.g. Data Lake, Delta Tables, Data Factory, pipelines)\n",
    " - Experience with Data Bricks environment\n",
    " - Advanced Python, NumPy, Pandas, scikit-Learn, TensorFlow\n",
    " - Advanced MLOps capabilities\n",
    " - Experience with Snowflake\n",
    " - Experience with Kafka\n",
    " - Experience with Git/Github code management\n",
    " - Experience with DevOps"
   ]
  },
  {
   "cell_type": "markdown",
   "metadata": {},
   "source": [
    "Kind of scary, isn't it?  Don't worry.  Going back to the idea of a unicorn data scientist, it's actually pretty rare for one person to be extremely proficient in everything.  Technology continues to move at break neck paces, and it takes years of hands on practice to gain experience and expertise.\n",
    "\n",
    "We'll cover aspects of these details later, but for now, just understand that these CS requirements can generally be broken down into categorical buckets like below.\n",
    "\n",
    " 1. Programming language\n",
    " 2. Programming environment\n",
    " 3. End-to-end architecture/networking systems\n",
    " 4. Code/Project management systems"
   ]
  },
  {
   "cell_type": "markdown",
   "metadata": {},
   "source": [
    "<h5>Domain Knowledge</h5>"
   ]
  },
  {
   "cell_type": "markdown",
   "metadata": {},
   "source": [
    "The importance of this last major contributing set cannot be overstated.  We'll discuss this in detail when we get to project overviews, but understand this is one of the main reasons projects fail.  On one hand you have highly skilled problem solvers armed with advanced methodologies, but most likely fairly ignorant of the domain area in which the problem came from.  On the other hand, you have highly competent functional resources who understand how their operations work, but usually have absolutely no idea how to solve their problem with any of the advanced solutions we use.\n",
    "\n",
    "It's very common to find one person working in the data science field that's skilled in math & statistics as well as the CS space; however, it's far less common to find an individual extremely capable in math & statistics, CS, _and_ domain expertise.  This of course depends on the type of experience and background of the individual, but as a \"jack of all trades\" type of generalist data scientist, we'll rely heavily on bringing in domain expertise from the function we're working with where the problem and project originated."
   ]
  },
  {
   "cell_type": "markdown",
   "metadata": {},
   "source": [
    "Here's an example to make this more concrete.  A transporation logistics department has a need for an application that can build consolidated shipments from all of the individual orders that come into their system, all with different requested arrival dates and destinations.  This seems simple enough.  You just need to know the the total weight of each individual order, the maximum weight a truck can hold, and then one of those fancy optimization algorithms, right?  Well, not so fast.  Did you know that Target customer orders cannot be grouped on the same truck as Walmart orders?  And did you know certain products cannot be double stacked on the truck, so you'll have to leave dead space above them?  And what about having to pull in orders planned to ship over the weekend to ship on Friday's?  And so on...  If you went ahead and built a solution without taking any of these domain specific condsiderations into account, then I can tell you from experience that your solution will be rejected because it does not meet the needs of your sponsors.\n",
    "\n",
    "So unless you plan on working in every single department or role for a few years before you build any projects for them, it's extremely unlikely you'll be able to serve as the functional domain expert all of the time.  We will need to work alongside of our project sponsors and functional working teams to make sure we consider all of the exceptions, constraints, and rules we need to know about."
   ]
  },
  {
   "cell_type": "markdown",
   "metadata": {},
   "source": [
    "At this point we've covered the outer ring of {numref}`ds-venn-fig`, which are the general fields and knowledge bases.  As we get closer to the center of the diagram we're starting to get more specialized and data science specific.  We won't spend too much time on them here since the remainder of the course is mostly dedicating to covering these topics, but let's at least hit the highlights now because it should help round out our custom Data Science definition we've been building towards."
   ]
  },
  {
   "cell_type": "markdown",
   "metadata": {},
   "source": [
    "<h5>Machine Learning</h5>"
   ]
  },
  {
   "cell_type": "markdown",
   "metadata": {},
   "source": [
    "As you'll come to understand further, the application of specialty mathematics is a major part of what we do.  Where math & statistics and computer science overlap gives us what's known as _Machine Learning_."
   ]
  },
  {
   "cell_type": "markdown",
   "metadata": {},
   "source": [
    "```{note}\n",
    "_Machine Learning_ is the application of code, algorithms, and data, giving computers the ability to learn and perform a variety of tasks.\n",
    "```\n",
    "<br>"
   ]
  },
  {
   "cell_type": "markdown",
   "metadata": {},
   "source": [
    "Tightly coupled with the types of analytics we've already covered, you'll learn there are classifications of methodologies that allow us to teach our models to learn and find patterns, which ultimately gives us the ability to solve our problems.  For example, to solve a Prediction problem from the Analytics Continuum in {numref}`analytics-craddle-fig`, we may choose to employ what's known as a _Classification_ algorithm from the Supervised Learning group of machine learning methods.\n",
    "\n",
    "Our machine learning methodologies will generally fall into one of the three buckets below.\n",
    "\n",
    " - Supervised Learning\n",
    " - Unsupervised Learning\n",
    " - Reinforcement Learning"
   ]
  },
  {
   "cell_type": "markdown",
   "metadata": {},
   "source": [
    "Supervised Learning is a collection of techinques revolving around the idea of learning from historical observations where you know the answer.  For example, imagine you have a data set consisting of many individual dogs and cats, one animal per row, with characteristics of each individual such as height, weight, tail length, nose length, ear length, etc.  In addition, for supervised learning you should expect some \"truth\" label that tells you the classification, or answer, for whatever you're interested in predicting.  In this case, it would be a column named \"Specie\", which holds whether each animal is a dog or cat.  Our algorithm would then learn which features allow us to separate between dogs and cats, which we could subsequently use to make predictions on new examples where we _do not_ know the answer, whether it's a dog or cat.  Unsupervised Learning is similar, in that our algorithms look for relationships and patterns, however here we do not have a ground truth label to learn from.  And lastly, we've already discussed Reinforcement Learning briefly.  These are generally more optimization and sequential learning tasks under uncertainty.\n",
    "\n",
    "More to come on these topics."
   ]
  },
  {
   "cell_type": "markdown",
   "metadata": {},
   "source": [
    "<h5>Research</h5>"
   ]
  },
  {
   "cell_type": "markdown",
   "metadata": {},
   "source": [
    "This one was a little foreign to me coming from a business background.  Where math & statistics overlap with domain expertise, we get _Research_.  Now this doesn't mean you're going to be conducting trials and writing research papers, but it does mean you should understand some of the same tests, methods, and rigor that academic and scientific professionals balance.\n",
    "\n",
    "For example, let's say you're trying to prove a statistical link between smoking and cancer.  Seems pretty obvious to us today, but did you know that it wasn't until 1954 that scientists were able to satisfingly prove the causal releationship {cite}`Mendes_2014`?  It's a high bar to say something _causes_ something else from a statistical point of view.\n",
    "\n",
    "Since you'll be using a lot of the same statistical methods and making a lot of the same kinds of inferential statements based on your models, there are some well documented protocols we'll need to be aware of and follow as best we can.  Have you heard of the scientific method?  See {numref}`scientific-method-fig`."
   ]
  },
  {
   "cell_type": "markdown",
   "metadata": {},
   "source": [
    "```{figure} ../images/scientific_method.png\n",
    "---\n",
    "width: 400px\n",
    "name: scientific-method-fig\n",
    "---\n",
    "The Scientific Method\n",
    "```"
   ]
  },
  {
   "cell_type": "markdown",
   "metadata": {},
   "source": [
    "You'll be introduced to a lot of these related topics as we progress through the course - experimental design, controlled testing, small sample size, confounding and lurking variables, counterfactuals, omitted variable bias, overfitting, repeated trials, hypothesis testing, confidence intervals, just to name a few.  I know, I know.  Sounds scary if you've never heard any of this.  Don't worry though.  We'll get there.\n",
    "\n",
    "Here's a fun one to round out the topic.  Have you heard people throw the word \"correlation\" around casually to say something is related to something else?  Well, from a statistics point of view, this word matters.  Hopefully you've already learned that there's a real mathematical formula for correlation.\n",
    "\n",
    "$$\n",
    "\\frac{ \\sum_{i=1}^{n}(x_i-\\bar{x})(y_i-\\bar{y}) }{%\n",
    "        \\sqrt{\\sum_{i=1}^{n}(x_i-\\bar{x})^2}\\sqrt{\\sum_{i=1}^{n}(y_i-\\bar{y})^2}}\n",
    "$$\n",
    "\n",
    "What's more, the coefficients you get are only trustworthy if the relationship you're testing is a linear one.  It's unfortunately way too common to see people report bogus relationships because they aren't aware of the simple underlying theory.  Check out {cite}`Vigen_2023` to see a ton of ridiculous examples of what's known as \"spurious correlations\", meaning you get false results that look like you've proven two independent and unrelated phenomena are related."
   ]
  },
  {
   "cell_type": "markdown",
   "metadata": {},
   "source": [
    "<h5>Software Development</h5>"
   ]
  },
  {
   "cell_type": "markdown",
   "metadata": {},
   "source": [
    "Lastly, we get to _Software Development_ where computer science and domain expertise overlap.  What work is involved will of course depend on where you're working, what technology architecture and systems you're working with, how large your team is, the roles and responsibilities for each, and which resource is expected to complete certain tasks.\n",
    "\n",
    "I personally think \"software\" is a poor choice of wording here, and if we insist on it, then in my opinion it's a little too far outside of our scope and solely into CS territory.  If we peel it back a bit and view it through the lens of \"application\" development, then it definitely hits the mark.  We'll cover this in greater detail when we get to other data science personas and roles, but for now understand that someone on the data science team will need to own building, testing, deploying, and maintaining the final solution the team has built.  \n",
    "\n",
    "In my experience, the data scientists on the team are typically expected to be able to build simple prototype web apps, or possibly even the final application given it's in a well structured environment.  Outside of this, the responsibility for production deployment typically falls to someone more aligned with with what's known as MLOps or Data Engineering.\n",
    "\n",
    "Another point worth mentioning is that we often get so caught up in the process of proving we can solve the problem, that we fail to devote enough time to the user experience.  Someone will need to think through some pretty standard questions when you begin talking about using your solution in practice.\n",
    "\n",
    " - How will the users interact with our solution?\n",
    " - What buttons will they want to push?  Levers they want to pull?\n",
    " - Will there need to be any dynamic graphs or visuals?\n",
    " - Will it be a web app?\n",
    " - Are we deploying in the cloud or on premise?\n",
    " - Does it need read/write back functionality?\n",
    " - Will it need to be fed a constant stream of new data?\n",
    " - And so many more questions. "
   ]
  },
  {
   "cell_type": "markdown",
   "metadata": {
    "tags": []
   },
   "source": [
    "<h3>What Did We Learn?</h3>"
   ]
  },
  {
   "cell_type": "markdown",
   "metadata": {},
   "source": [
    "Whew...  I know all of that was a lot.  It had to be done though to get it out of the way.  Let's revisit our definition of data science and see if we've done any better."
   ]
  },
  {
   "cell_type": "markdown",
   "metadata": {},
   "source": [
    "As originally stated it was extremely vague.  And how about now?  Given what we've learned, what would you add or change to make it a little more practical?"
   ]
  },
  {
   "cell_type": "markdown",
   "metadata": {},
   "source": [
    "```{note}\n",
    "_Data Science_ is a field of study which analyzes data to find patterns and extract meaningful insights.\n",
    "```\n",
    "<br>"
   ]
  },
  {
   "cell_type": "markdown",
   "metadata": {},
   "source": [
    "Hopefully at this point you can see it has a lot more to do with a width breadth of mathematics and techinques, various analytical project types, emerging technologies, and end-to-end business connectivity, from idea inception all the way to deployment.\n",
    "\n",
    "You should now have a pretty decent grasp of what we're talking about, at least in general, and enough for us to move on a bit.  We have a few more overview topics to get through and then we'll jump into some fun hands-on learning.  I promise."
   ]
  }
 ],
 "metadata": {
  "kernelspec": {
   "display_name": "Python 3 (ipykernel)",
   "language": "python",
   "name": "python3"
  },
  "language_info": {
   "codemirror_mode": {
    "name": "ipython",
    "version": 3
   },
   "file_extension": ".py",
   "mimetype": "text/x-python",
   "name": "python",
   "nbconvert_exporter": "python",
   "pygments_lexer": "ipython3",
   "version": "3.11.5"
  },
  "widgets": {
   "application/vnd.jupyter.widget-state+json": {
    "state": {},
    "version_major": 2,
    "version_minor": 0
   }
  }
 },
 "nbformat": 4,
 "nbformat_minor": 4
}
