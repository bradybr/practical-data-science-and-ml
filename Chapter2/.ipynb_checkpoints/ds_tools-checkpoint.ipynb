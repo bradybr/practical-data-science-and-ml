{
 "cells": [
  {
   "cell_type": "markdown",
   "metadata": {},
   "source": [
    "# Tools Of the Trade"
   ]
  },
  {
   "cell_type": "markdown",
   "metadata": {},
   "source": [
    "As wood working tools are to a carpenter, computer science languages and technology are to a data scientist."
   ]
  },
  {
   "cell_type": "markdown",
   "metadata": {},
   "source": [
    "The early practitioners had it easier in my opinion.  You would have most likely come up through a mathematics, engineering, or science department at university and learned how to use a commerical software tool during that time (whichever was paid for by your university).  Post graduation, you would have found a company using the software you learned and then you would have been all set for a career.  End of story.\n",
    "\n",
    "Time carries on as it tends to do however, and leaves quite a wake in the world of technology.  Open source communities hit their stride and began to seriously change the game in the mid 90's to early 00's.  If you're not familiar with the term _open source_, let me explain.  It essentially means the source code of the program, which allows it to do what it does, is available for you do see, modify, and/or distribute under its license, all for free.  This is in stark contrast to commerical applications which cost money to use, usually not an insignificant amount I might add, and you're generally not allowed to view or modify how it works.  There are communities of users who maintain these open source code repositories with a rigorous testing and comittal process, but the general idea is to leverage the synergy of active users contributing to the functionality of the language or tool.  The benefits and the ways these communities have changed the world around us cannot be overstated.\n",
    "\n",
    "So let's talk about the current landscape of tools and technologies you would be expected to be comfortable navigating and working with in the field of data science."
   ]
  },
  {
   "cell_type": "markdown",
   "metadata": {},
   "source": [
    "- Programming Languages\n",
    "- Text Editors/IDE's\n",
    "- Code Management\n",
    "- UI/UX\n",
    "- Production Infrastructures"
   ]
  },
  {
   "cell_type": "markdown",
   "metadata": {
    "tags": []
   },
   "source": [
    "<h3>Programming Languages</h3>"
   ]
  },
  {
   "cell_type": "markdown",
   "metadata": {},
   "source": [
    "So you want to get into data science and machine learning?  Welp, better learn to code.\n",
    "\n",
    "You could of course get by using a \"drag and drop\" node builder kind of tool like Knime, or MS Azure Machine Learning, but that won't be my suggestion if you really want to get into the field.  As a hobbiest, sure, you could get away with building models from some no-code application with a nice easy graphical user interface (GUI) on top of the back-end.  I'm not knocking these tools, and they do have their place, i.e. mainly in the hobbiest and citizen data scienst camps.  If you want to be well-rounded, thoroughly knowledgeable, prepared for all of the pitfalls and watchouts involved, and taken seriously in the field however, then I will suggest you learn a programming language like the professionals."
   ]
  },
  {
   "cell_type": "markdown",
   "metadata": {},
   "source": [
    "Let's start with what the professionals are actually using.  If we're talking about pure developer programming languages overall, you can see from the Stack Overflow 2023 Survey {cite}`SO_2023` in {numref}`so-langs-fig` that the top spots are geared towards web development with Javascript and HTML/CSS, when filtered to \"All Respondents\".  The 3rd spot however is where we come in with Python at nearly 50% of the respondents finding use with it.  Python is an extremely flexible general purpose coding language that has been extended with many add on packages and libraries to make it fully capable of handling our machine learning tasks."
   ]
  },
  {
   "cell_type": "markdown",
   "metadata": {},
   "source": [
    "```{figure} ../images/so_langs.png\n",
    "---\n",
    "width: 800px\n",
    "name: so-langs-fig\n",
    "---\n",
    "Source: https://survey.stackoverflow.co/2023/\n",
    "```"
   ]
  },
  {
   "cell_type": "markdown",
   "metadata": {},
   "source": [
    "Now let's drill into data science specialty reporting from Anaconda, an end-to-end platform to develop and deploy AI programs.  Of course they're biased a bit towards Python, but it's still an open survey from a respected company, collected from industry users in the field so we're going to go with it. You can see in {numref}`kdn-langs-fig` that Python is king of the hill with regular and frequent users in the data science space."
   ]
  },
  {
   "cell_type": "markdown",
   "metadata": {
    "jp-MarkdownHeadingCollapsed": true,
    "tags": []
   },
   "source": [
    "```{figure} ../images/kdn_langs.png\n",
    "---\n",
    "width: 900px\n",
    "name: kdn-langs-fig\n",
    "---\n",
    "Source: https://www.anaconda.com/resources/whitepapers/state-of-data-science-2021\n",
    "```"
   ]
  },
  {
   "cell_type": "markdown",
   "metadata": {},
   "source": [
    "I can't help myself from giving an honorable mention here to the <a href=\"https://cran.r-project.org/\">R language</a>.  If you're looking for the best open source application with the most comprehensive capabilities in math, statistics, and visual graphics, then you're probably looking for R.  Before Python took over the world a few years ago, R was the go-to open source data science language.  It's still heavily used in academia, statistical circles, science, and engineering, but as far as all around, end-to-end, general purpose, and data science capable languages goes, Python has become too difficult to argue with.\n",
    "\n",
    "My advice is, if you want to use what the majority of other general data scientists are using and what most companies are actively hiring for today, then learn Python.  If you want to align yourself more with the Math & Statistics set of the Venn diagram from {numref}`ds-venn-fig`, then you should give R a serious look.  It's pretty amazing.\n",
    "\n",
    "We'll proceed here with <a href=\"https://www.python.org/\">Python</a> for our course, as it will fit the objectives for the majority of our students and set them up for success later on.  I do suggest you get started using Python through an <a href=\"https://docs.anaconda.com/\">Anaconda</a> distribution though if you're going this route.  You can read the docs now, or you'll certainly understand the benefits later when we get into the actual coding.\n",
    "\n",
    "That's it for now on programming languages.  I would recommend the following list and order if you're wanting to see ahead a few paces for what I believe are the essential language skills to have today.  There are tons of free and paid resources available via books, tutorials, and web courses to learn any of the languages we've discussed so far if you wish to work independently since we'll only be learning Python during this course.\n",
    "\n",
    "1. <a href=\"https://www.python.org/\">Python</a> (<a href=\"https://docs.anaconda.com/\">Anaconda</a> distribution)\n",
    "    - NumPy\n",
    "    - Pandas\n",
    "    - matplotlib/seaborn/plotly/plotnine\n",
    "    - scikit-Learn\n",
    "2. SQL\n",
    "3. PySpark\n",
    "4. Scala"
   ]
  },
  {
   "cell_type": "markdown",
   "metadata": {},
   "source": [
    "<h3>Text Editors/IDE's</h3>"
   ]
  },
  {
   "cell_type": "markdown",
   "metadata": {
    "jp-MarkdownHeadingCollapsed": true,
    "tags": []
   },
   "source": [
    "After you have your favorite language picked out, you'll need a place to work.  Enter the text editor or integrated development environment (IDE).  You could actually do all of your work in a plain text file and use the comand prompt if you're one of those kinds of programmers... I am not unfortunately, and am only comfortable there when I need to be.  So for me and many others like me, we need applications with all the bells and whistles that make coding more efficient.  With these notebook and IDE's applications we'll get awesome utilities and benefits like control over run-time execution, debugging, syntax highlighting, linting, object explorers, etc., that make our lives so much easier as you'll see.\n",
    "\n",
    "You'll have a couple of choices here depending on your preferences and needs, and they generally shake out into two camps: 1) Web notebooks and 2) Desktop applications."
   ]
  },
  {
   "cell_type": "markdown",
   "metadata": {
    "tags": []
   },
   "source": [
    "<h5>Web Notebooks</h5>"
   ]
  },
  {
   "cell_type": "markdown",
   "metadata": {},
   "source": [
    "Web notebooks are excellent choices when you're learning, teaching, sharing, in development, or prototyping.  There are plenty of choices and different flavors, but when we talk the most common, you'll probably run across the following.\n",
    "\n",
    "- <a href=\"https://jupyter.org/\">JupyterLab</a>  (<a href=\"https://docs.anaconda.com/\">Anaconda</a> distribution)\n",
    "- <a href=\"https://colab.google/\">Google Colab</a>\n",
    "- <a href=\"https://www.databricks.com//\">Data Bricks</a>"
   ]
  },
  {
   "cell_type": "markdown",
   "metadata": {},
   "source": [
    "For this course we'll focus on using JupyterLab, which you'll get through your Anaconda installation, so no need to install it separately.  And while we won't use it for this course due to the costs, it's worth mentioning that when you get out into the corporate arena and start seeing end-to-end production infrastructures, you'll likely run into coding platforms like Data Bricks.  It's a fantastic option that integrates seamlessly with Amazon Web Services (AWS), MS Azure, and other poplular ecosystems.\n",
    "\n",
    "So take your pick for whichever tickles your fancy, but for those in our class, JupyterLab will be our choice."
   ]
  },
  {
   "cell_type": "markdown",
   "metadata": {},
   "source": [
    "```{figure} ../images/jupyter_ex.png\n",
    "---\n",
    "width: 900px\n",
    "name: jupyter-ex-fig\n",
    "---\n",
    "JupyterLab notebook excercise example\n",
    "```"
   ]
  },
  {
   "cell_type": "markdown",
   "metadata": {},
   "source": [
    "<h5>Desktop IDE's</h5>"
   ]
  },
  {
   "cell_type": "markdown",
   "metadata": {},
   "source": [
    "We probably won't spend too much time on these during the class, but it's worth bringing them up so you're aware how they may benefit you.  When you start getting really serious about building bullet proof applications in a \"pythonic\" way, you may realize the online notebooks make it a little difficult to do so.  In those cases, you may want to start looking into IDE's that you can work with as a local installation.  Below are just a couple of the most popular, and all three come with the Anaconda installation as well.\n",
    "\n",
    "- <a href=\"https://www.spyder-ide.org/\">Spyder</a>\n",
    "- <a href=\"https://code.visualstudio.com/\">VS Code</a>\n",
    "- <a href=\"https://www.jetbrains.com/pycharm/\">PyCharm</a>\n",
    "\n",
    "I personally love Spyder as my IDE of choice because it comes with a variable explorer natively (you'll learn later why this is so handy to have).  VS Code and PyCharm are more popular by far, although I personally find them less intuitive and user friendly for some reason.  You aren't locked into choosing just one, and can switch back and forth as you'd like since they're not cloud or web environments, so feel free to play around with any or all."
   ]
  },
  {
   "cell_type": "markdown",
   "metadata": {},
   "source": [
    "```{figure} ../images/spyder_ex.png\n",
    "---\n",
    "width: 900px\n",
    "name: spyder-ex-fig\n",
    "---\n",
    "Spyder IDE with local .py file example\n",
    "```"
   ]
  },
  {
   "cell_type": "markdown",
   "metadata": {},
   "source": [
    "<h3>Code Management</h3>"
   ]
  },
  {
   "cell_type": "markdown",
   "metadata": {},
   "source": [
    "Next we discuss code management.  For years I worked independently without worrying about repositories or sharing my files, and strongly resisted the \"proper\" ways of working.  I wrote my own program code, abstracted javascript and HTML/CSS, and deployed my solutions via light weight web apps totally disconnected for our data warehouses and other infrastructures.  When I actually needed to share my work with someone, well, I just zipped up my files and dumped them in a OneDrive folder and said \"here you go\".\n",
    "\n",
    "Years later, and now that I've been managing data science teams across our organization for a while, I can categorically tell you I missed the boat entirely.  It's clear to me now that I resisted for so long simply because I didn't want to spend the time to learn a new technology or way or working.  Unfortunately I was allowed to get away with it because I was one of the first in my organization to start working in data science so we didn't have the architectures fully stood up yet, and frankly no one new any better at that time anyway.  Don't make the same mistakes I did.  There are amazing technologies and capabilities that will make your life, as well as your team's, _so_ much easier.  I promise.\n",
    "\n",
    "So what are we really talking about?  Code management involves the notion of keeping master files separate from dev files.  It allows a team to edit offline, track changes, implement tight version control, revert to a previous copy if needed, and enables multiple people to work on the same project at the same time.  Pretty cool stuff."
   ]
  },
  {
   "cell_type": "markdown",
   "metadata": {},
   "source": [
    "There are a couple of extremely common tools here that nearly everyone you'll run into uses.  We'll first introduce you to Git, which is the actual version control system we'll be using under the hood.  Next is Github, which is essentially built on top of Git and gives us a web framework to create repositories of code and notebooks.  Feel free to start reading the user docs now to get a sense of the basic functionalities we'll be using.\n",
    "\n",
    "- <a href=\"https://git-scm.com/\">Git</a>\n",
    "- <a href=\"https://github.com/\">GitHub</a>"
   ]
  },
  {
   "cell_type": "markdown",
   "metadata": {},
   "source": [
    "This will all become clear when you are asked to pull down your labs and assignments from the course repository on Github.  In addition, if you want to work outside of the school lab, then you'll need to create your own repositories and commit your changes to your personal locations so you can access them from any internet connection."
   ]
  },
  {
   "cell_type": "markdown",
   "metadata": {},
   "source": [
    "```{figure} ../images/github_ex.png\n",
    "---\n",
    "width: 900px\n",
    "name: github-ex-fig\n",
    "---\n",
    "Github example of a public repository\n",
    "```"
   ]
  },
  {
   "cell_type": "markdown",
   "metadata": {
    "tags": []
   },
   "source": [
    "<h3>UI/UX</h3>"
   ]
  },
  {
   "cell_type": "markdown",
   "metadata": {},
   "source": [
    "Now we get to the user interface (UI) and user experience (UX).  Far too often these are left until the end of a project, which is a mistake in my opinion.  You should have a clear understanding up front of how the end users expect to be able to access and work with your solution.  They likely will not be comfortable reading code, working in any of the technologies we've discussed thus far, and therefore will need a much more business friendly GUI and front-end to interact with your program."
   ]
  },
  {
   "cell_type": "markdown",
   "metadata": {},
   "source": [
    "The basic idea here is that when you're all done solving the business problem, you need to _ship_ your application in some way.  Not every project in the real world will need a front-end, but in cases requiring interactivity from your end users, your application will need to be \"live\" and deployed to the user in some way.  There are tons of ways this can be done, but for our purposes in teaching a beginner course, the lightest touch way is to introduce you to standalone web applications.  Let's start with the first consideration though: The User Experience.\n",
    "\n",
    "The **UX** is a wholistic understanding how the users will experience working with your application.  This is a never ending list of questions, but the central idea is trying to understand if you've reduced any friction to using your application as much as possible.  User adoption is a major issue in the real world, and you want to make sure you're doing everything you can to ensure the users _want_ to user your solution.\n",
    "\n",
    "- Is the app intuitive and easy to understand?\n",
    "- Is it natural navigating through the app?  Are there multiple tabs or pages?\n",
    "- What functionality does the user need?  Dropdowns, list boxes, dynamic graphs, multi selection/cascading widgets, etc.?\n",
    "- Are there \"How To Guides\" and User Documentation available?\n",
    "- How will they user request support or report bugs?\n",
    "- Are there any special security considerations?"
   ]
  },
  {
   "cell_type": "markdown",
   "metadata": {},
   "source": [
    "The **UI** is the actual front-end the user will see when they use your solution.  There are no rules here, so whichever vehicle serves the end users needs is generally what we do, and these will look different for MVP prototypes vs. in production.  Some popular choices for quick and simple are shown below.  These integrate tightly with Python code and Jupyter Notebooks so there's typically little overhead to learning a new language or framework.\n",
    "\n",
    "- <a href=\"https://streamlit.io/\">Streamlit</a>\n",
    "- <a href=\"https://dash.plotly.com/\">Dash</a>\n",
    "- <a href=\"https://bokeh.org/\">Bokeh</a>\n",
    "- <a href=\"https://panel.holoviz.org/\">Panel</a>\n"
   ]
  },
  {
   "cell_type": "markdown",
   "metadata": {},
   "source": [
    "We will use one of these options with your project work during this course, so feel free to play around and see which one you prefer."
   ]
  },
  {
   "cell_type": "markdown",
   "metadata": {},
   "source": [
    "```{figure} ../images/streamlit_ex.png\n",
    "---\n",
    "width: 900px\n",
    "name: streamlit-ex-fig\n",
    "---\n",
    "Streamlit web app demo example<br />Source: https://echarts.streamlit.app/\n",
    "```"
   ]
  },
  {
   "cell_type": "markdown",
   "metadata": {},
   "source": [
    "<h3>What Did We Learn?</h3>"
   ]
  },
  {
   "cell_type": "markdown",
   "metadata": {},
   "source": [
    "This was again a lot of new ideas and terminology thrown at you without too much detail.  Don't worry if you're still not quite able to see the forest through the trees just yet.  We will get to all of these as we progress through the course.\n",
    "\n",
    "As long as you understand the following for now, then you're right on track."
   ]
  },
  {
   "cell_type": "markdown",
   "metadata": {},
   "source": [
    "<h5>Programming Lanague</h5>"
   ]
  },
  {
   "cell_type": "markdown",
   "metadata": {},
   "source": [
    "You'll need a few core programming languages under your belt to get started.  Start with **Python/Anaconda** (plus NumPy, Pandas, matplotlib/seaborn, scikit-Learn libraries), then **SQL** as your second foundational language."
   ]
  },
  {
   "cell_type": "markdown",
   "metadata": {},
   "source": [
    "<h5>Text Editor/IDE</h5>"
   ]
  },
  {
   "cell_type": "markdown",
   "metadata": {},
   "source": [
    "You'll need an environment to code and build your programs.  Start with **JupyterLab** for learning, prototyping, and dev work, and then explore and select a favorite local IDE from any number of choices (e.g. **Spyder, VS Code, PyCharm**)."
   ]
  },
  {
   "cell_type": "markdown",
   "metadata": {},
   "source": [
    "<h5>Code Management</h5>"
   ]
  },
  {
   "cell_type": "markdown",
   "metadata": {},
   "source": [
    "You'll need to understand how to manage your code, files, and work with others via the popular **Git** and **Github** frameworks."
   ]
  },
  {
   "cell_type": "markdown",
   "metadata": {},
   "source": [
    "<h5>UI/UX</h5>"
   ]
  },
  {
   "cell_type": "markdown",
   "metadata": {},
   "source": [
    "You'll need to learn a way to publish your solutions to your end users.  Start with exploring and selecting a favorite web app option (e.g. **Streamlit, Dash, Bokeh, Panel**)."
   ]
  }
 ],
 "metadata": {
  "kernelspec": {
   "display_name": "Python 3 (ipykernel)",
   "language": "python",
   "name": "python3"
  },
  "language_info": {
   "codemirror_mode": {
    "name": "ipython",
    "version": 3
   },
   "file_extension": ".py",
   "mimetype": "text/x-python",
   "name": "python",
   "nbconvert_exporter": "python",
   "pygments_lexer": "ipython3",
   "version": "3.11.5"
  },
  "widgets": {
   "application/vnd.jupyter.widget-state+json": {
    "state": {},
    "version_major": 2,
    "version_minor": 0
   }
  }
 },
 "nbformat": 4,
 "nbformat_minor": 4
}
