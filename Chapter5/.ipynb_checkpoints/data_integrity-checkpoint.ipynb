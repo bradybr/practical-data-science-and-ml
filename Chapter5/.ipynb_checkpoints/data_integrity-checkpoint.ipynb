{
 "cells": [
  {
   "cell_type": "markdown",
   "id": "d8794e27-7581-48be-8c54-04d535c866f9",
   "metadata": {},
   "source": [
    "# Data Integrity"
   ]
  },
  {
   "cell_type": "markdown",
   "id": "d940e01f-be94-44ba-8a34-dfbc9db8cb4d",
   "metadata": {},
   "source": [
    "Coming out of the last section where we began showing some of the data challenges you'll run across, hopefully you're starting to understand it's not just _read in the data and get to modeling_.  There's so much time devoted to getting the data, checking it, summarizing, asking questions, fixing issues, then rinse and repeat.  Real-world data is super messy and there's no one size fits all methodology.  Nearly every dataset will be unique and have some kind of peculiarities specific to the domain and data collections method.\n",
    "\n",
    "Remember talking about \"garbage in, garbage out\"?  If your data is riddled with holes and untrustworthy data, then your entire model and project won't be worth a darn.  So again, be sure to give this EDA step all the attention it requires.  "
   ]
  },
  {
   "cell_type": "markdown",
   "id": "b012ad73-5e79-4a73-9742-14ccd1c43810",
   "metadata": {},
   "source": [
    "Since you've already seen how to identify most of these issues, we're going to jump straight into addressing them.  In this section we'll cover the most common issues you'll run across.  There are others to be sure, but they'll be less common and more domain specific in most cases.\n",
    "\n",
    "- Duplicate records\n",
    "- Missing values/records\n",
    "- Anomalous values/Outliers\n",
    "- Sensoring"
   ]
  },
  {
   "cell_type": "markdown",
   "id": "e2531f52-7c41-4303-b3a8-c48ef7552a69",
   "metadata": {},
   "source": [
    "Below we'll speed up getting our data back into our environment and ready to tackle the integrity issues."
   ]
  },
  {
   "cell_type": "code",
   "execution_count": 20,
   "id": "60ff7aa7-eafe-4b23-b8be-696493de43de",
   "metadata": {},
   "outputs": [
    {
     "data": {
      "text/html": [
       "<div>\n",
       "<style scoped>\n",
       "    .dataframe tbody tr th:only-of-type {\n",
       "        vertical-align: middle;\n",
       "    }\n",
       "\n",
       "    .dataframe tbody tr th {\n",
       "        vertical-align: top;\n",
       "    }\n",
       "\n",
       "    .dataframe thead th {\n",
       "        text-align: right;\n",
       "    }\n",
       "</style>\n",
       "<table border=\"1\" class=\"dataframe\">\n",
       "  <thead>\n",
       "    <tr style=\"text-align: right;\">\n",
       "      <th></th>\n",
       "      <th>id</th>\n",
       "      <th>gender</th>\n",
       "      <th>age</th>\n",
       "      <th>country</th>\n",
       "      <th>study_begin</th>\n",
       "      <th>study_end</th>\n",
       "      <th>active_mins</th>\n",
       "      <th>sleep_disturb_mins</th>\n",
       "      <th>sleep_rem_mins</th>\n",
       "    </tr>\n",
       "  </thead>\n",
       "  <tbody>\n",
       "    <tr>\n",
       "      <th>0</th>\n",
       "      <td>1</td>\n",
       "      <td>F</td>\n",
       "      <td>38.0</td>\n",
       "      <td>USA</td>\n",
       "      <td>4/3/2021</td>\n",
       "      <td>4/9/2023</td>\n",
       "      <td>96.8</td>\n",
       "      <td>227.5</td>\n",
       "      <td>25.9</td>\n",
       "    </tr>\n",
       "    <tr>\n",
       "      <th>1</th>\n",
       "      <td>2</td>\n",
       "      <td>M</td>\n",
       "      <td>72.0</td>\n",
       "      <td>Poland</td>\n",
       "      <td>4/3/2021</td>\n",
       "      <td>4/9/2023</td>\n",
       "      <td>245.6</td>\n",
       "      <td>644.2</td>\n",
       "      <td>86.7</td>\n",
       "    </tr>\n",
       "    <tr>\n",
       "      <th>2</th>\n",
       "      <td>3</td>\n",
       "      <td>F</td>\n",
       "      <td>95.0</td>\n",
       "      <td>Italy</td>\n",
       "      <td>4/3/2021</td>\n",
       "      <td>4/9/2023</td>\n",
       "      <td>279.4</td>\n",
       "      <td>465.6</td>\n",
       "      <td>31.8</td>\n",
       "    </tr>\n",
       "    <tr>\n",
       "      <th>3</th>\n",
       "      <td>4</td>\n",
       "      <td>M</td>\n",
       "      <td>37.0</td>\n",
       "      <td>USA</td>\n",
       "      <td>4/3/2021</td>\n",
       "      <td>4/9/2023</td>\n",
       "      <td>60.0</td>\n",
       "      <td>109.0</td>\n",
       "      <td>19.7</td>\n",
       "    </tr>\n",
       "    <tr>\n",
       "      <th>4</th>\n",
       "      <td>5</td>\n",
       "      <td>F</td>\n",
       "      <td>80.0</td>\n",
       "      <td>Spain</td>\n",
       "      <td>4/3/2021</td>\n",
       "      <td>4/9/2023</td>\n",
       "      <td>89.4</td>\n",
       "      <td>113.3</td>\n",
       "      <td>38.6</td>\n",
       "    </tr>\n",
       "    <tr>\n",
       "      <th>...</th>\n",
       "      <td>...</td>\n",
       "      <td>...</td>\n",
       "      <td>...</td>\n",
       "      <td>...</td>\n",
       "      <td>...</td>\n",
       "      <td>...</td>\n",
       "      <td>...</td>\n",
       "      <td>...</td>\n",
       "      <td>...</td>\n",
       "    </tr>\n",
       "    <tr>\n",
       "      <th>872</th>\n",
       "      <td>872</td>\n",
       "      <td>F</td>\n",
       "      <td>17.0</td>\n",
       "      <td>Italy</td>\n",
       "      <td>4/3/2021</td>\n",
       "      <td>4/9/2023</td>\n",
       "      <td>42.1</td>\n",
       "      <td>87.7</td>\n",
       "      <td>42.3</td>\n",
       "    </tr>\n",
       "    <tr>\n",
       "      <th>873</th>\n",
       "      <td>873</td>\n",
       "      <td>F</td>\n",
       "      <td>64.0</td>\n",
       "      <td>USA</td>\n",
       "      <td>4/3/2021</td>\n",
       "      <td>4/9/2023</td>\n",
       "      <td>128.5</td>\n",
       "      <td>268.8</td>\n",
       "      <td>23.4</td>\n",
       "    </tr>\n",
       "    <tr>\n",
       "      <th>874</th>\n",
       "      <td>874</td>\n",
       "      <td>F</td>\n",
       "      <td>27.0</td>\n",
       "      <td>Italy</td>\n",
       "      <td>4/3/2021</td>\n",
       "      <td>4/9/2023</td>\n",
       "      <td>43.2</td>\n",
       "      <td>84.1</td>\n",
       "      <td>18.0</td>\n",
       "    </tr>\n",
       "    <tr>\n",
       "      <th>875</th>\n",
       "      <td>875</td>\n",
       "      <td>F</td>\n",
       "      <td>69.0</td>\n",
       "      <td>Spain</td>\n",
       "      <td>4/3/2021</td>\n",
       "      <td>4/9/2023</td>\n",
       "      <td>246.8</td>\n",
       "      <td>237.6</td>\n",
       "      <td>44.1</td>\n",
       "    </tr>\n",
       "    <tr>\n",
       "      <th>876</th>\n",
       "      <td>876</td>\n",
       "      <td>M</td>\n",
       "      <td>27.0</td>\n",
       "      <td>USA</td>\n",
       "      <td>4/3/2021</td>\n",
       "      <td>4/9/2023</td>\n",
       "      <td>320.2</td>\n",
       "      <td>313.3</td>\n",
       "      <td>112.8</td>\n",
       "    </tr>\n",
       "  </tbody>\n",
       "</table>\n",
       "<p>877 rows × 9 columns</p>\n",
       "</div>"
      ],
      "text/plain": [
       "      id gender   age country study_begin study_end  active_mins  \\\n",
       "0      1      F  38.0     USA    4/3/2021  4/9/2023         96.8   \n",
       "1      2      M  72.0  Poland    4/3/2021  4/9/2023        245.6   \n",
       "2      3      F  95.0   Italy    4/3/2021  4/9/2023        279.4   \n",
       "3      4      M  37.0     USA    4/3/2021  4/9/2023         60.0   \n",
       "4      5      F  80.0   Spain    4/3/2021  4/9/2023         89.4   \n",
       "..   ...    ...   ...     ...         ...       ...          ...   \n",
       "872  872      F  17.0   Italy    4/3/2021  4/9/2023         42.1   \n",
       "873  873      F  64.0     USA    4/3/2021  4/9/2023        128.5   \n",
       "874  874      F  27.0   Italy    4/3/2021  4/9/2023         43.2   \n",
       "875  875      F  69.0   Spain    4/3/2021  4/9/2023        246.8   \n",
       "876  876      M  27.0     USA    4/3/2021  4/9/2023        320.2   \n",
       "\n",
       "     sleep_disturb_mins  sleep_rem_mins  \n",
       "0                 227.5            25.9  \n",
       "1                 644.2            86.7  \n",
       "2                 465.6            31.8  \n",
       "3                 109.0            19.7  \n",
       "4                 113.3            38.6  \n",
       "..                  ...             ...  \n",
       "872                87.7            42.3  \n",
       "873               268.8            23.4  \n",
       "874                84.1            18.0  \n",
       "875               237.6            44.1  \n",
       "876               313.3           112.8  \n",
       "\n",
       "[877 rows x 9 columns]"
      ]
     },
     "execution_count": 20,
     "metadata": {},
     "output_type": "execute_result"
    }
   ],
   "source": [
    "# Import libraries\n",
    "import pandas as pd\n",
    "import matplotlib\n",
    "\n",
    "# Read in the data from github repository\n",
    "url = 'https://github.com/bradybr/practical-data-science-and-ml/blob/main/datasets/sleep_study.csv?raw=true'\n",
    "dat = pd.read_csv(url, sep = ',')\n",
    "\n",
    "# Create a list of the features you want to change and recast them using \".astype()\"\n",
    "vars = ['id']\n",
    "dat[vars] = dat[vars].astype('object')\n",
    "dat"
   ]
  },
  {
   "cell_type": "markdown",
   "id": "32acd03f-2d2b-4750-909b-3ef3c881a775",
   "metadata": {},
   "source": [
    "<h3>Duplicate Records</h3>"
   ]
  },
  {
   "cell_type": "markdown",
   "id": "eb942b40-7c51-45a2-90a4-6b62d7a2097e",
   "metadata": {},
   "source": [
    "Let's deal with the easiest ones first.  Remember we had a few duplicate observations?  Well, we spoke with our business expert, and she said there's no reason for those to exist and they are in fact real duplicate records.  We can go ahead and delete them.  \n",
    "\n",
    "Easy enough.  Let's find them again and then we'll use the `.drop_duplicates()` function to drop them from our data."
   ]
  },
  {
   "cell_type": "code",
   "execution_count": 4,
   "id": "c8017fd7-eca5-4f45-8b31-2c8dd321fead",
   "metadata": {},
   "outputs": [
    {
     "data": {
      "text/html": [
       "<div>\n",
       "<style scoped>\n",
       "    .dataframe tbody tr th:only-of-type {\n",
       "        vertical-align: middle;\n",
       "    }\n",
       "\n",
       "    .dataframe tbody tr th {\n",
       "        vertical-align: top;\n",
       "    }\n",
       "\n",
       "    .dataframe thead th {\n",
       "        text-align: right;\n",
       "    }\n",
       "</style>\n",
       "<table border=\"1\" class=\"dataframe\">\n",
       "  <thead>\n",
       "    <tr style=\"text-align: right;\">\n",
       "      <th></th>\n",
       "      <th>id</th>\n",
       "      <th>gender</th>\n",
       "      <th>age</th>\n",
       "      <th>country</th>\n",
       "      <th>study_begin</th>\n",
       "      <th>study_end</th>\n",
       "      <th>active_mins</th>\n",
       "      <th>sleep_disturb_mins</th>\n",
       "      <th>sleep_rem_mins</th>\n",
       "    </tr>\n",
       "  </thead>\n",
       "  <tbody>\n",
       "    <tr>\n",
       "      <th>88</th>\n",
       "      <td>89</td>\n",
       "      <td>F</td>\n",
       "      <td>53.0</td>\n",
       "      <td>Italy</td>\n",
       "      <td>4/3/2021</td>\n",
       "      <td>4/9/2023</td>\n",
       "      <td>141.0</td>\n",
       "      <td>186.6</td>\n",
       "      <td>107.1</td>\n",
       "    </tr>\n",
       "    <tr>\n",
       "      <th>238</th>\n",
       "      <td>238</td>\n",
       "      <td>M</td>\n",
       "      <td>0.0</td>\n",
       "      <td>Poland</td>\n",
       "      <td>4/3/2021</td>\n",
       "      <td>4/9/2023</td>\n",
       "      <td>2.0</td>\n",
       "      <td>2.0</td>\n",
       "      <td>2.0</td>\n",
       "    </tr>\n",
       "  </tbody>\n",
       "</table>\n",
       "</div>"
      ],
      "text/plain": [
       "      id gender   age country study_begin study_end  active_mins  \\\n",
       "88    89      F  53.0   Italy    4/3/2021  4/9/2023        141.0   \n",
       "238  238      M   0.0  Poland    4/3/2021  4/9/2023          2.0   \n",
       "\n",
       "     sleep_disturb_mins  sleep_rem_mins  \n",
       "88                186.6           107.1  \n",
       "238                 2.0             2.0  "
      ]
     },
     "execution_count": 4,
     "metadata": {},
     "output_type": "execute_result"
    }
   ],
   "source": [
    "# Check for duplicate observations\n",
    "dat[dat.duplicated()]"
   ]
  },
  {
   "cell_type": "code",
   "execution_count": 21,
   "id": "14bc98f2-16b5-497f-88ce-e48bed604abf",
   "metadata": {},
   "outputs": [
    {
     "data": {
      "text/plain": [
       "(875, 9)"
      ]
     },
     "execution_count": 21,
     "metadata": {},
     "output_type": "execute_result"
    }
   ],
   "source": [
    "# Delete the duplicate records & check the dimensions of the dataset\n",
    "dat.drop_duplicates(inplace = True)\n",
    "dat.shape"
   ]
  },
  {
   "cell_type": "markdown",
   "id": "9b2d4d4e-9bc0-4bc9-8ed2-1d4cd56fa858",
   "metadata": {},
   "source": [
    "Success!  We only lost two of our observations and we're down to 875 records.  On to the missing values!  "
   ]
  },
  {
   "cell_type": "markdown",
   "id": "5a6cf9cb-743f-464f-9bf3-ab79a3eab970",
   "metadata": {},
   "source": [
    "<h3>Missing Values/Records</h3>"
   ]
  },
  {
   "cell_type": "markdown",
   "id": "65dac518-2d26-438f-9cce-92a5792cbfe8",
   "metadata": {},
   "source": [
    "Ok, so we have some missing values to deal with now.  Let's deal with the easy ones first.  We again asked our business domain expert to help us understand the data collection and participant intake process to reign in how these might have occurred.  Here's what we found out.\n",
    "\n",
    "- __Age:__  Participants self reported their age on their intake applications when applying for the study.  Any missing values were not followed up on when the study actually started.\n",
    "- __Study End Date:__ All dates should be 4/9/2023.  Any date after 4/9/2023 is invalid and a data entry mistake.\n",
    "- __Sleep Pattern Minutes:__  Missing values in sleep recordings were accidental technician omissions."
   ]
  },
  {
   "cell_type": "code",
   "execution_count": 29,
   "id": "2d22141e-3513-4f1d-a560-3460abc0b84b",
   "metadata": {},
   "outputs": [
    {
     "data": {
      "text/plain": [
       "id                    0\n",
       "gender                0\n",
       "age                   0\n",
       "country               0\n",
       "study_begin           0\n",
       "study_end             0\n",
       "active_mins           4\n",
       "sleep_disturb_mins    6\n",
       "sleep_rem_mins        9\n",
       "dtype: int64"
      ]
     },
     "execution_count": 29,
     "metadata": {},
     "output_type": "execute_result"
    }
   ],
   "source": [
    "# Count NA's by feature\n",
    "dat.isna().sum()"
   ]
  },
  {
   "cell_type": "code",
   "execution_count": 24,
   "id": "17fe737a-09d6-4990-9d0d-0e78a217dfba",
   "metadata": {},
   "outputs": [],
   "source": [
    "# Delete the 1 observation with a missing age\n",
    "dat.dropna(subset = ['age'], inplace = True)"
   ]
  },
  {
   "cell_type": "code",
   "execution_count": 28,
   "id": "34d070ab-d65b-470a-b59b-e779fbaf9e08",
   "metadata": {},
   "outputs": [],
   "source": [
    "# Set all of the end dates to '4/9/2023'\n",
    "dat['study_end'] = '4/9/2023'"
   ]
  },
  {
   "cell_type": "markdown",
   "id": "a230879b-aebd-4636-bdeb-ecc781e04d9b",
   "metadata": {},
   "source": [
    "Now, for the missing sleep pattern mintues... There are few enough that we could just delete them and it probably wouldn't materially change anything in our analysis, hopefully.  On the other hand, it is just a few of them so we could take a shot at imputation because we would not be creating a large number of artificial values.  For this example it's probalbly a toss up as to whether or not it matters either way; however, you will definitely see more complicated and difficult decisions in the real world.\n",
    "\n",
    "When you're considering deleting information, which should be a last resort, you should get in the habit of understanding what you're deleting.  For example, you may be removing observations that are unique values in other features and you'd be losing visibility to this group entirely, or maybe they are very important interactions somewhere else in the values under study.  Point is, try not to get in the habit of just deleting data without analyzing a bit and thinking it through.\n",
    "\n",
    "Let's give imputation a try so you can see how it might work.\n",
    "\n",
    "There are tons of different ways you could go about imputing missing values, from very simple, to unnecessarily complex.  We'll try somewhere in the middle."
   ]
  },
  {
   "cell_type": "code",
   "execution_count": null,
   "id": "b846a6a1-3e79-4a1e-b3a6-6985082b5b63",
   "metadata": {},
   "outputs": [],
   "source": []
  },
  {
   "cell_type": "code",
   "execution_count": null,
   "id": "2a145b85-fc5b-4f93-a478-cb66ffdbbcd3",
   "metadata": {},
   "outputs": [],
   "source": []
  },
  {
   "cell_type": "code",
   "execution_count": null,
   "id": "006af2d0-ea5d-4766-b2ae-cbd60615d361",
   "metadata": {},
   "outputs": [],
   "source": []
  },
  {
   "cell_type": "code",
   "execution_count": null,
   "id": "0cdcac6f-14f0-4493-b649-9fe8dd807535",
   "metadata": {},
   "outputs": [],
   "source": []
  },
  {
   "cell_type": "markdown",
   "id": "177a92ba-d7ed-4b4f-8e6b-37905b9ae50d",
   "metadata": {},
   "source": [
    "And that's it.  If we re-run our `is.na().sum()` counts we should see the fruits of our labor with all of the missing values taken care of."
   ]
  },
  {
   "cell_type": "code",
   "execution_count": 29,
   "id": "3f540fe0-e0df-42eb-a9e5-4099efc4fe2d",
   "metadata": {},
   "outputs": [
    {
     "data": {
      "text/plain": [
       "id                    0\n",
       "gender                0\n",
       "age                   0\n",
       "country               0\n",
       "study_begin           0\n",
       "study_end             0\n",
       "active_mins           4\n",
       "sleep_disturb_mins    6\n",
       "sleep_rem_mins        9\n",
       "dtype: int64"
      ]
     },
     "execution_count": 29,
     "metadata": {},
     "output_type": "execute_result"
    }
   ],
   "source": [
    "# Count NA's by feature\n",
    "dat.isna().sum()"
   ]
  },
  {
   "cell_type": "markdown",
   "id": "927cc044-cf7f-4583-9a75-316145fe75fd",
   "metadata": {},
   "source": [
    "<h3>Anomalous Values/Outliers</h3>"
   ]
  },
  {
   "cell_type": "code",
   "execution_count": 31,
   "id": "e353d22f-f3e0-43e8-99e5-75859ebe554a",
   "metadata": {},
   "outputs": [
    {
     "data": {
      "text/html": [
       "<div>\n",
       "<style scoped>\n",
       "    .dataframe tbody tr th:only-of-type {\n",
       "        vertical-align: middle;\n",
       "    }\n",
       "\n",
       "    .dataframe tbody tr th {\n",
       "        vertical-align: top;\n",
       "    }\n",
       "\n",
       "    .dataframe thead th {\n",
       "        text-align: right;\n",
       "    }\n",
       "</style>\n",
       "<table border=\"1\" class=\"dataframe\">\n",
       "  <thead>\n",
       "    <tr style=\"text-align: right;\">\n",
       "      <th></th>\n",
       "      <th>age</th>\n",
       "      <th>active_mins</th>\n",
       "      <th>sleep_disturb_mins</th>\n",
       "      <th>sleep_rem_mins</th>\n",
       "    </tr>\n",
       "  </thead>\n",
       "  <tbody>\n",
       "    <tr>\n",
       "      <th>count</th>\n",
       "      <td>874.000000</td>\n",
       "      <td>870.000000</td>\n",
       "      <td>868.000000</td>\n",
       "      <td>865.000000</td>\n",
       "    </tr>\n",
       "    <tr>\n",
       "      <th>mean</th>\n",
       "      <td>54.243707</td>\n",
       "      <td>215.427126</td>\n",
       "      <td>311.946313</td>\n",
       "      <td>121.906127</td>\n",
       "    </tr>\n",
       "    <tr>\n",
       "      <th>std</th>\n",
       "      <td>23.669669</td>\n",
       "      <td>820.035360</td>\n",
       "      <td>817.874558</td>\n",
       "      <td>826.779150</td>\n",
       "    </tr>\n",
       "    <tr>\n",
       "      <th>min</th>\n",
       "      <td>0.000000</td>\n",
       "      <td>2.000000</td>\n",
       "      <td>2.000000</td>\n",
       "      <td>2.000000</td>\n",
       "    </tr>\n",
       "    <tr>\n",
       "      <th>25%</th>\n",
       "      <td>35.000000</td>\n",
       "      <td>81.325000</td>\n",
       "      <td>146.750000</td>\n",
       "      <td>26.500000</td>\n",
       "    </tr>\n",
       "    <tr>\n",
       "      <th>50%</th>\n",
       "      <td>54.000000</td>\n",
       "      <td>130.500000</td>\n",
       "      <td>227.050000</td>\n",
       "      <td>43.800000</td>\n",
       "    </tr>\n",
       "    <tr>\n",
       "      <th>75%</th>\n",
       "      <td>74.000000</td>\n",
       "      <td>199.625000</td>\n",
       "      <td>322.875000</td>\n",
       "      <td>69.300000</td>\n",
       "    </tr>\n",
       "    <tr>\n",
       "      <th>max</th>\n",
       "      <td>146.000000</td>\n",
       "      <td>9999.000000</td>\n",
       "      <td>9999.000000</td>\n",
       "      <td>9999.000000</td>\n",
       "    </tr>\n",
       "  </tbody>\n",
       "</table>\n",
       "</div>"
      ],
      "text/plain": [
       "              age  active_mins  sleep_disturb_mins  sleep_rem_mins\n",
       "count  874.000000   870.000000          868.000000      865.000000\n",
       "mean    54.243707   215.427126          311.946313      121.906127\n",
       "std     23.669669   820.035360          817.874558      826.779150\n",
       "min      0.000000     2.000000            2.000000        2.000000\n",
       "25%     35.000000    81.325000          146.750000       26.500000\n",
       "50%     54.000000   130.500000          227.050000       43.800000\n",
       "75%     74.000000   199.625000          322.875000       69.300000\n",
       "max    146.000000  9999.000000         9999.000000     9999.000000"
      ]
     },
     "execution_count": 31,
     "metadata": {},
     "output_type": "execute_result"
    }
   ],
   "source": [
    "# Print numeric summary stats\n",
    "dat.describe()"
   ]
  },
  {
   "cell_type": "code",
   "execution_count": 33,
   "id": "fa1f71b5-afa2-4c22-8189-b9d0a248b485",
   "metadata": {},
   "outputs": [
    {
     "data": {
      "text/html": [
       "<div>\n",
       "<style scoped>\n",
       "    .dataframe tbody tr th:only-of-type {\n",
       "        vertical-align: middle;\n",
       "    }\n",
       "\n",
       "    .dataframe tbody tr th {\n",
       "        vertical-align: top;\n",
       "    }\n",
       "\n",
       "    .dataframe thead th {\n",
       "        text-align: right;\n",
       "    }\n",
       "</style>\n",
       "<table border=\"1\" class=\"dataframe\">\n",
       "  <thead>\n",
       "    <tr style=\"text-align: right;\">\n",
       "      <th></th>\n",
       "      <th>id</th>\n",
       "      <th>gender</th>\n",
       "      <th>country</th>\n",
       "    </tr>\n",
       "  </thead>\n",
       "  <tbody>\n",
       "    <tr>\n",
       "      <th>count</th>\n",
       "      <td>874</td>\n",
       "      <td>874</td>\n",
       "      <td>874</td>\n",
       "    </tr>\n",
       "    <tr>\n",
       "      <th>unique</th>\n",
       "      <td>874</td>\n",
       "      <td>2</td>\n",
       "      <td>4</td>\n",
       "    </tr>\n",
       "    <tr>\n",
       "      <th>top</th>\n",
       "      <td>1</td>\n",
       "      <td>F</td>\n",
       "      <td>Italy</td>\n",
       "    </tr>\n",
       "    <tr>\n",
       "      <th>freq</th>\n",
       "      <td>1</td>\n",
       "      <td>612</td>\n",
       "      <td>344</td>\n",
       "    </tr>\n",
       "  </tbody>\n",
       "</table>\n",
       "</div>"
      ],
      "text/plain": [
       "         id gender country\n",
       "count   874    874     874\n",
       "unique  874      2       4\n",
       "top       1      F   Italy\n",
       "freq      1    612     344"
      ]
     },
     "execution_count": 33,
     "metadata": {},
     "output_type": "execute_result"
    }
   ],
   "source": [
    "# Print categorical summary stats\n",
    "dat[['id','gender','country','study_begin','study_end']].describe()"
   ]
  },
  {
   "cell_type": "code",
   "execution_count": 30,
   "id": "3e7ccb3e-3990-4d6e-ab6d-a5adc7d72e0a",
   "metadata": {},
   "outputs": [],
   "source": [
    "# Delete static and non-informative \n",
    "dat.drop(['study_begin', 'study_end'], axis = 1, inplace = True)"
   ]
  },
  {
   "cell_type": "code",
   "execution_count": null,
   "id": "c1ac8d2b-9ed6-471a-b479-791b46dc2d1e",
   "metadata": {},
   "outputs": [],
   "source": []
  }
 ],
 "metadata": {
  "kernelspec": {
   "display_name": "Python 3 (ipykernel)",
   "language": "python",
   "name": "python3"
  },
  "language_info": {
   "codemirror_mode": {
    "name": "ipython",
    "version": 3
   },
   "file_extension": ".py",
   "mimetype": "text/x-python",
   "name": "python",
   "nbconvert_exporter": "python",
   "pygments_lexer": "ipython3",
   "version": "3.11.5"
  }
 },
 "nbformat": 4,
 "nbformat_minor": 5
}
