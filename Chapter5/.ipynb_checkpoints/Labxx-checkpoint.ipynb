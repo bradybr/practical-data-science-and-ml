{
 "cells": [
  {
   "cell_type": "markdown",
   "id": "d8794e27-7581-48be-8c54-04d535c866f9",
   "metadata": {},
   "source": [
    "# Data Formats & Types"
   ]
  },
  {
   "cell_type": "markdown",
   "id": "4f8adf77-1113-483f-b361-51f5cd97a4b2",
   "metadata": {},
   "source": [
    "Like the title says - Data Formats & Types.  The data you'll run across carries structures and hierarchies we should be aware of, and there are different types of ways information can be recorded which are required for certain types of analysis and modeling."
   ]
  },
  {
   "cell_type": "markdown",
   "id": "13bfb848-75cb-4db9-b40c-1e1575b80d71",
   "metadata": {},
   "source": [
    "Let's start with unit structures and nested hierarchies contained in the data."
   ]
  },
  {
   "cell_type": "markdown",
   "id": "fad60148-185c-4fa9-9369-0e51b8228cfd",
   "metadata": {},
   "source": [
    "<h3>Data Formats</h3>"
   ]
  },
  {
   "cell_type": "markdown",
   "id": "b99a95c2-c013-4a5f-9952-8c197a4105cc",
   "metadata": {},
   "source": [
    "What do we mean by data formats?  These are structures in the data that can be thought of as how the data relates to itself.  There are two very common ones you should think about straight away when you start working with project sponsors and scoping out your projects.\n",
    "\n",
    "- Unit of Analysis\n",
    "- Wide vs. Long Data"
   ]
  },
  {
   "cell_type": "markdown",
   "id": "54381b81-dd64-46b3-90b7-26c6dbf63dbf",
   "metadata": {},
   "source": [
    "<h5>Unit of Analysis</h5>"
   ]
  },
  {
   "cell_type": "markdown",
   "id": "9d16825e-bcc4-4cc2-9fbc-035f88329366",
   "metadata": {},
   "source": [
    "_Unit of analysis_, or level of analysis, is generally the first thing we want to understand when we start analyzing the structure of our data.  I like to think of it as at a minimum, of having some kind of subject, e.g. by Customer, by Region, or by Manufacturer.  If our data has been prefiltered down to just one Customer, then you'll only have one unit/level, but it's still the highest _object_ level that everything else in the data relates to.\n",
    "\n",
    "For example, if we have a sales report and we have a column called \"Customer\", then I would say our data scope is \"sales, by Customer\".  We may also see nested hierarchies such as \"by Customer, by Region\".  So you might see something like - Costco as the customer, and then there are 3 Regions, Midwest, Northeast, and South, that all roll up to the Costco header level.  You will also frequently run into having a time frame or frequency in your data as well.  So it might be something like \"by Customer, by Region, by Day\".\n",
    "\n",
    "These are all examples of the unit of analysis that map to whatever the data in your set actually is.  If it's a daily sales report, then it's \"sales, by Customer, by Region, by Day\".  Each Customer-Region will have sales for each day in the overall time span horizon of your data set.\n",
    "\n",
    "It'll be much easier to grasp if we jump in and look at some actual data.  Below we read in the iris data set from the well-known UCI ML Data Set repository {cite}`UCI_2024`.  This classic data set is about as simple as it gets."
   ]
  },
  {
   "cell_type": "code",
   "execution_count": 11,
   "id": "c1fdc0b5-9924-422b-86fd-e6451df5e1a9",
   "metadata": {},
   "outputs": [
    {
     "data": {
      "text/plain": [
       "ucimlrepo.dotdict.dotdict"
      ]
     },
     "execution_count": 11,
     "metadata": {},
     "output_type": "execute_result"
    }
   ],
   "source": [
    "# Import libraries\n",
    "from ucimlrepo import fetch_ucirepo, list_available_datasets\n",
    "import pandas as pd\n",
    "\n",
    "# Uncomment below to see which datasets are available\n",
    "#list_available_datasets()\n",
    "\n",
    "# Import Iris data (id = 53) and see what we get\n",
    "dat_in = fetch_ucirepo(id = 53)\n",
    "type(dat_in)"
   ]
  },
  {
   "cell_type": "markdown",
   "id": "e38711a7-ac76-4502-a24e-362651da4c8d",
   "metadata": {},
   "source": [
    "Ok, so `dat_in` is a dictionary.  Good news, we know how to see what's in there.  We could just print the whole thing to the screen, but that would take up a lot of real estate.  So how about we just try looking at the `.keys()` to see if we can tell what we want?"
   ]
  },
  {
   "cell_type": "code",
   "execution_count": 12,
   "id": "d1740132-1aa6-4bfe-b815-caa6b483a347",
   "metadata": {},
   "outputs": [
    {
     "name": "stdout",
     "output_type": "stream",
     "text": [
      "dict_keys(['data', 'metadata', 'variables'])\n"
     ]
    }
   ],
   "source": [
    "print(dat_in.keys())"
   ]
  },
  {
   "cell_type": "markdown",
   "id": "1894afbc-7551-4b97-bf99-e6dc7304ba9f",
   "metadata": {},
   "source": [
    "Ok nice.  We probably want what's stored in the \"data\" key if I had to guess.  Let's see what's in there next."
   ]
  },
  {
   "cell_type": "code",
   "execution_count": 13,
   "id": "92ef3695-1dfd-41ca-905c-9f7164e872bc",
   "metadata": {},
   "outputs": [
    {
     "data": {
      "text/plain": [
       "{'ids': None,\n",
       " 'features':      sepal length  sepal width  petal length  petal width\n",
       " 0             5.1          3.5           1.4          0.2\n",
       " 1             4.9          3.0           1.4          0.2\n",
       " 2             4.7          3.2           1.3          0.2\n",
       " 3             4.6          3.1           1.5          0.2\n",
       " 4             5.0          3.6           1.4          0.2\n",
       " ..            ...          ...           ...          ...\n",
       " 145           6.7          3.0           5.2          2.3\n",
       " 146           6.3          2.5           5.0          1.9\n",
       " 147           6.5          3.0           5.2          2.0\n",
       " 148           6.2          3.4           5.4          2.3\n",
       " 149           5.9          3.0           5.1          1.8\n",
       " \n",
       " [150 rows x 4 columns],\n",
       " 'targets':               class\n",
       " 0       Iris-setosa\n",
       " 1       Iris-setosa\n",
       " 2       Iris-setosa\n",
       " 3       Iris-setosa\n",
       " 4       Iris-setosa\n",
       " ..              ...\n",
       " 145  Iris-virginica\n",
       " 146  Iris-virginica\n",
       " 147  Iris-virginica\n",
       " 148  Iris-virginica\n",
       " 149  Iris-virginica\n",
       " \n",
       " [150 rows x 1 columns],\n",
       " 'original':      sepal length  sepal width  petal length  petal width           class\n",
       " 0             5.1          3.5           1.4          0.2     Iris-setosa\n",
       " 1             4.9          3.0           1.4          0.2     Iris-setosa\n",
       " 2             4.7          3.2           1.3          0.2     Iris-setosa\n",
       " 3             4.6          3.1           1.5          0.2     Iris-setosa\n",
       " 4             5.0          3.6           1.4          0.2     Iris-setosa\n",
       " ..            ...          ...           ...          ...             ...\n",
       " 145           6.7          3.0           5.2          2.3  Iris-virginica\n",
       " 146           6.3          2.5           5.0          1.9  Iris-virginica\n",
       " 147           6.5          3.0           5.2          2.0  Iris-virginica\n",
       " 148           6.2          3.4           5.4          2.3  Iris-virginica\n",
       " 149           5.9          3.0           5.1          1.8  Iris-virginica\n",
       " \n",
       " [150 rows x 5 columns],\n",
       " 'headers': Index(['sepal length', 'sepal width', 'petal length', 'petal width', 'class'], dtype='object')}"
      ]
     },
     "execution_count": 13,
     "metadata": {},
     "output_type": "execute_result"
    }
   ],
   "source": [
    "# Print the \"data\" object from the \"dat_in\" dictionary\n",
    "dat_in['data']"
   ]
  },
  {
   "cell_type": "markdown",
   "id": "501b6b7d-9890-46c2-bae3-8d612556408a",
   "metadata": {},
   "source": [
    "Hmm.  We can see the \"data\" object is another dictionary collection housing what we're actually looking looking for.  Looks like there's a data frame called \"original\" that is the complete original data set.  That's what we want.  Go get it."
   ]
  },
  {
   "cell_type": "code",
   "execution_count": 15,
   "id": "13f760a2-0120-43ba-abc8-c1cde9a26a6c",
   "metadata": {},
   "outputs": [
    {
     "data": {
      "text/html": [
       "<div>\n",
       "<style scoped>\n",
       "    .dataframe tbody tr th:only-of-type {\n",
       "        vertical-align: middle;\n",
       "    }\n",
       "\n",
       "    .dataframe tbody tr th {\n",
       "        vertical-align: top;\n",
       "    }\n",
       "\n",
       "    .dataframe thead th {\n",
       "        text-align: right;\n",
       "    }\n",
       "</style>\n",
       "<table border=\"1\" class=\"dataframe\">\n",
       "  <thead>\n",
       "    <tr style=\"text-align: right;\">\n",
       "      <th></th>\n",
       "      <th>sepal_length</th>\n",
       "      <th>sepal_width</th>\n",
       "      <th>petal_length</th>\n",
       "      <th>petal_width</th>\n",
       "      <th>class</th>\n",
       "    </tr>\n",
       "  </thead>\n",
       "  <tbody>\n",
       "    <tr>\n",
       "      <th>0</th>\n",
       "      <td>5.1</td>\n",
       "      <td>3.5</td>\n",
       "      <td>1.4</td>\n",
       "      <td>0.2</td>\n",
       "      <td>Iris-setosa</td>\n",
       "    </tr>\n",
       "    <tr>\n",
       "      <th>1</th>\n",
       "      <td>4.9</td>\n",
       "      <td>3.0</td>\n",
       "      <td>1.4</td>\n",
       "      <td>0.2</td>\n",
       "      <td>Iris-setosa</td>\n",
       "    </tr>\n",
       "    <tr>\n",
       "      <th>2</th>\n",
       "      <td>4.7</td>\n",
       "      <td>3.2</td>\n",
       "      <td>1.3</td>\n",
       "      <td>0.2</td>\n",
       "      <td>Iris-setosa</td>\n",
       "    </tr>\n",
       "    <tr>\n",
       "      <th>3</th>\n",
       "      <td>4.6</td>\n",
       "      <td>3.1</td>\n",
       "      <td>1.5</td>\n",
       "      <td>0.2</td>\n",
       "      <td>Iris-setosa</td>\n",
       "    </tr>\n",
       "    <tr>\n",
       "      <th>4</th>\n",
       "      <td>5.0</td>\n",
       "      <td>3.6</td>\n",
       "      <td>1.4</td>\n",
       "      <td>0.2</td>\n",
       "      <td>Iris-setosa</td>\n",
       "    </tr>\n",
       "    <tr>\n",
       "      <th>...</th>\n",
       "      <td>...</td>\n",
       "      <td>...</td>\n",
       "      <td>...</td>\n",
       "      <td>...</td>\n",
       "      <td>...</td>\n",
       "    </tr>\n",
       "    <tr>\n",
       "      <th>145</th>\n",
       "      <td>6.7</td>\n",
       "      <td>3.0</td>\n",
       "      <td>5.2</td>\n",
       "      <td>2.3</td>\n",
       "      <td>Iris-virginica</td>\n",
       "    </tr>\n",
       "    <tr>\n",
       "      <th>146</th>\n",
       "      <td>6.3</td>\n",
       "      <td>2.5</td>\n",
       "      <td>5.0</td>\n",
       "      <td>1.9</td>\n",
       "      <td>Iris-virginica</td>\n",
       "    </tr>\n",
       "    <tr>\n",
       "      <th>147</th>\n",
       "      <td>6.5</td>\n",
       "      <td>3.0</td>\n",
       "      <td>5.2</td>\n",
       "      <td>2.0</td>\n",
       "      <td>Iris-virginica</td>\n",
       "    </tr>\n",
       "    <tr>\n",
       "      <th>148</th>\n",
       "      <td>6.2</td>\n",
       "      <td>3.4</td>\n",
       "      <td>5.4</td>\n",
       "      <td>2.3</td>\n",
       "      <td>Iris-virginica</td>\n",
       "    </tr>\n",
       "    <tr>\n",
       "      <th>149</th>\n",
       "      <td>5.9</td>\n",
       "      <td>3.0</td>\n",
       "      <td>5.1</td>\n",
       "      <td>1.8</td>\n",
       "      <td>Iris-virginica</td>\n",
       "    </tr>\n",
       "  </tbody>\n",
       "</table>\n",
       "<p>150 rows × 5 columns</p>\n",
       "</div>"
      ],
      "text/plain": [
       "     sepal_length  sepal_width  petal_length  petal_width           class\n",
       "0             5.1          3.5           1.4          0.2     Iris-setosa\n",
       "1             4.9          3.0           1.4          0.2     Iris-setosa\n",
       "2             4.7          3.2           1.3          0.2     Iris-setosa\n",
       "3             4.6          3.1           1.5          0.2     Iris-setosa\n",
       "4             5.0          3.6           1.4          0.2     Iris-setosa\n",
       "..            ...          ...           ...          ...             ...\n",
       "145           6.7          3.0           5.2          2.3  Iris-virginica\n",
       "146           6.3          2.5           5.0          1.9  Iris-virginica\n",
       "147           6.5          3.0           5.2          2.0  Iris-virginica\n",
       "148           6.2          3.4           5.4          2.3  Iris-virginica\n",
       "149           5.9          3.0           5.1          1.8  Iris-virginica\n",
       "\n",
       "[150 rows x 5 columns]"
      ]
     },
     "execution_count": 15,
     "metadata": {},
     "output_type": "execute_result"
    }
   ],
   "source": [
    "# Extract the original dataset from the \"data\" dictionary\n",
    "dat = dat_in['data']['original'].copy()\n",
    "\n",
    "# Replace the spaces in the column names with underscores (definitely a good habit to get into)\n",
    "dat.columns = dat.columns.str.replace(' ', '_')\n",
    "dat"
   ]
  },
  {
   "cell_type": "code",
   "execution_count": 21,
   "id": "67dd8512-ed18-47e5-9d5d-e34339038dc4",
   "metadata": {},
   "outputs": [
    {
     "data": {
      "text/plain": [
       "class\n",
       "Iris-setosa        50\n",
       "Iris-versicolor    50\n",
       "Iris-virginica     50\n",
       "Name: count, dtype: int64"
      ]
     },
     "execution_count": 21,
     "metadata": {},
     "output_type": "execute_result"
    }
   ],
   "source": [
    "dat['class'].value_counts()"
   ]
  },
  {
   "cell_type": "markdown",
   "id": "e130b616-eb95-4eba-8018-71c168ff66f4",
   "metadata": {},
   "source": [
    "<h5>Long Data</h5>"
   ]
  },
  {
   "cell_type": "code",
   "execution_count": null,
   "id": "58d68e76-2dcc-4f4e-9b2b-64d4674265c4",
   "metadata": {},
   "outputs": [],
   "source": []
  },
  {
   "cell_type": "markdown",
   "id": "bf1d2cf9-1b75-4738-a29e-86a5388513d4",
   "metadata": {},
   "source": [
    "<h5>Wide Data</h5>"
   ]
  },
  {
   "cell_type": "code",
   "execution_count": null,
   "id": "3d10d658-9a25-47eb-a1ee-b8b626d67964",
   "metadata": {},
   "outputs": [],
   "source": []
  },
  {
   "cell_type": "markdown",
   "id": "5d4e820d-8fa7-4b16-98b9-53a91bfedae4",
   "metadata": {},
   "source": []
  },
  {
   "cell_type": "code",
   "execution_count": null,
   "id": "2aac4447-087c-48b3-9690-9ee5f0784afb",
   "metadata": {},
   "outputs": [],
   "source": []
  },
  {
   "cell_type": "code",
   "execution_count": null,
   "id": "a4382838-3118-4770-9d7f-6efec8e924a7",
   "metadata": {},
   "outputs": [],
   "source": []
  },
  {
   "cell_type": "markdown",
   "id": "2e6f9a64-c450-44de-a5a2-f5ee0c397b06",
   "metadata": {},
   "source": [
    "<h3>Data Types</h3>"
   ]
  },
  {
   "cell_type": "markdown",
   "id": "0d5986c5-ef6f-42d7-92ba-283c94e629a4",
   "metadata": {},
   "source": [
    "What are the types of data we may encounter?\n",
    "\n",
    "- Cross sectional\n",
    "- Time series\n",
    "- Panel\n",
    "- Text\n",
    "\n",
    "There are other more exotic data to be sure, but this will cover the common ones you'll deal with the most often."
   ]
  },
  {
   "cell_type": "markdown",
   "id": "b7159521-4c61-4ffd-8268-f9e73824666e",
   "metadata": {},
   "source": [
    "<h5>Cross Sectional</h5>"
   ]
  },
  {
   "cell_type": "markdown",
   "id": "3322de16-e387-407e-978a-91c28180dc23",
   "metadata": {},
   "source": []
  },
  {
   "cell_type": "markdown",
   "id": "31424312-056b-49af-bbf0-a11cc6aeac6e",
   "metadata": {},
   "source": [
    "<h5>Time Series</h5>"
   ]
  },
  {
   "cell_type": "markdown",
   "id": "d65f3726-a6cc-4fec-9a68-b86f9a0d56ef",
   "metadata": {},
   "source": [
    "<h5>Panel</h5>"
   ]
  },
  {
   "cell_type": "markdown",
   "id": "ea3152ed-8643-4073-9fe7-d0e6be439ceb",
   "metadata": {},
   "source": [
    "<h5>Text</h5>"
   ]
  },
  {
   "cell_type": "markdown",
   "id": "5b12459a-2feb-42a4-816e-69ee278a8eb0",
   "metadata": {},
   "source": []
  }
 ],
 "metadata": {
  "kernelspec": {
   "display_name": "Python 3 (ipykernel)",
   "language": "python",
   "name": "python3"
  },
  "language_info": {
   "codemirror_mode": {
    "name": "ipython",
    "version": 3
   },
   "file_extension": ".py",
   "mimetype": "text/x-python",
   "name": "python",
   "nbconvert_exporter": "python",
   "pygments_lexer": "ipython3",
   "version": "3.11.5"
  }
 },
 "nbformat": 4,
 "nbformat_minor": 5
}
